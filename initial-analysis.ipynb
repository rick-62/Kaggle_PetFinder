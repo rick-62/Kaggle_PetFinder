{
 "cells": [
  {
   "cell_type": "code",
   "execution_count": 3,
   "metadata": {
    "_cell_guid": "b1076dfc-b9ad-4769-8c92-a6c4dae69d19",
    "_uuid": "8f2839f25d086af736a60e9eeb907d3b93b6e0e5"
   },
   "outputs": [
    {
     "name": "stdout",
     "output_type": "stream",
     "text": [
      "[]\n"
     ]
    }
   ],
   "source": [
    "# This Python 3 environment comes with many helpful analytics libraries installed\n",
    "# It is defined by the kaggle/python docker image: https://github.com/kaggle/docker-python\n",
    "# For example, here's several helpful packages to load in \n",
    "\n",
    "import numpy as np # linear algebra\n",
    "import pandas as pd # data processing, CSV file I/O (e.g. pd.read_csv)\n",
    "\n",
    "# Input data files are available in the \"../input/\" directory.\n",
    "# For example, running this (by clicking run or pressing Shift+Enter) will list the files in the input directory\n",
    "\n",
    "import os\n",
    "print(os.listdir(\"../input\"))\n",
    "\n",
    "# Any results you write to the current directory are saved as output."
   ]
  },
  {
   "cell_type": "code",
   "execution_count": null,
   "metadata": {
    "_uuid": "030883f708b841f80ebd62e1ce5dbbfc6ecab6d3"
   },
   "outputs": [],
   "source": [
    "print(os.listdir(\"../input/train\"))\n",
    "#print(os.listdir(\"../input/train_images\"))"
   ]
  },
  {
   "cell_type": "markdown",
   "metadata": {
    "_cell_guid": "79c7e3d0-c299-4dcb-8224-4455121ee9b0",
    "_uuid": "d629ff2d2480ee46fbb7e2d37f6b5fab8052498a",
    "collapsed": true
   },
   "source": [
    "> # Exploring the Data\n",
    "\n",
    "## Checking the available data"
   ]
  },
  {
   "cell_type": "code",
   "execution_count": null,
   "metadata": {
    "_uuid": "a56236755cc18a8e20e757cffbd5563d84561952"
   },
   "outputs": [],
   "source": [
    "df_train = pd.read_csv(\"../input/train/train.csv\")\n",
    "df_train.head()"
   ]
  },
  {
   "cell_type": "code",
   "execution_count": null,
   "metadata": {
    "_uuid": "4e923fb349109c72bc5aaa54059eafcde22cdb48"
   },
   "outputs": [],
   "source": [
    "df_train.head().loc[2, 'Description']"
   ]
  },
  {
   "cell_type": "code",
   "execution_count": null,
   "metadata": {
    "_uuid": "ca645a941316183ff1062652e40af4cc73ecec13"
   },
   "outputs": [],
   "source": [
    "df_test = pd.read_csv(\"../input/test/test.csv\")"
   ]
  },
  {
   "cell_type": "code",
   "execution_count": null,
   "metadata": {
    "_uuid": "85c63b08b40f35a40764c81c263f53b171d1c574"
   },
   "outputs": [],
   "source": [
    "print(f\"training: {len(df_train)} \\t testing: {len(df_test)}\")"
   ]
  },
  {
   "cell_type": "code",
   "execution_count": null,
   "metadata": {
    "_uuid": "5b5b550fa6b672fdd9ac97d7488935e62b84317d"
   },
   "outputs": [],
   "source": [
    "import json"
   ]
  },
  {
   "cell_type": "code",
   "execution_count": null,
   "metadata": {
    "_uuid": "a77986748a1776c70e6408f5222039c2cddb2b74"
   },
   "outputs": [],
   "source": [
    "with open(\"../input/train_sentiment/df880995b.json\") as f:\n",
    "    json_sample = json.load(f)"
   ]
  },
  {
   "cell_type": "code",
   "execution_count": null,
   "metadata": {
    "_uuid": "afe387aecc6dcf7db2f81f5dd0a55fdf00c2f30e"
   },
   "outputs": [],
   "source": [
    "json_sample"
   ]
  },
  {
   "cell_type": "code",
   "execution_count": null,
   "metadata": {
    "_uuid": "2f038f929a6f884a174fb053c0514f26b9780ac2"
   },
   "outputs": [],
   "source": [
    "df_train.describe(include='all')"
   ]
  },
  {
   "cell_type": "code",
   "execution_count": null,
   "metadata": {
    "_uuid": "6f6f81dd2a658a114b35821d2854e1a6322c6de2",
    "scrolled": true
   },
   "outputs": [],
   "source": [
    "df_train.info()"
   ]
  },
  {
   "cell_type": "code",
   "execution_count": null,
   "metadata": {
    "_uuid": "d80880779b3a3ea2a87a6f1a144ac9d30c27e5b0"
   },
   "outputs": [],
   "source": [
    "from pylab import imread,subplot,imshow,show\n",
    "import matplotlib.pyplot as plt\n",
    "image = imread('../input/train_images/86e1089a3-1.jpg') \n",
    "plt.imshow(image)\n"
   ]
  },
  {
   "cell_type": "code",
   "execution_count": null,
   "metadata": {
    "_uuid": "21e1145698875fdb116c2729f555b6fbd03913ae"
   },
   "outputs": [],
   "source": [
    "pd.read_csv('../input/color_labels.csv')"
   ]
  },
  {
   "cell_type": "markdown",
   "metadata": {
    "_uuid": "6ffb3b5dbd822cf2dca449dd98bacbf5152fa304"
   },
   "source": [
    "### Notes\n",
    "* **Breeds, Colors, State** need changing to categories\n",
    "* **PhotoAmt** could do with changing to an integer\n",
    "* Missing **Description** need replacing with \"none\" or \"N/A\", if used in model\n",
    "* Explore descriptions in greater depth\n",
    "* Missing **Name** need replacing with \"none\" or \"N/A\", if used in model\n",
    "* Need to ensure model is suitable for categorical output: classifiers, logistic regression etc\n",
    "* Categories for **Fur Length**, **Vaccinated** **etc**\n",
    "* One-Hot Encoding for categories\n",
    "* Looking at top rows, RescuerID can be the same many times - I suspect this is a pet shelter\n"
   ]
  },
  {
   "cell_type": "markdown",
   "metadata": {
    "_uuid": "a5be12ad97c7e7b53794a6d6f48a7cade671c29b"
   },
   "source": [
    "## Analysing Description"
   ]
  },
  {
   "cell_type": "code",
   "execution_count": null,
   "metadata": {
    "_uuid": "0ac3b2e08cc96dcaef7b80573fbc4eaa746f1bec"
   },
   "outputs": [],
   "source": [
    "df_sample = df_train.head(20)"
   ]
  },
  {
   "cell_type": "code",
   "execution_count": null,
   "metadata": {
    "_uuid": "5f1538b4c3d00da55f426de3d7806ced7cca9e6a"
   },
   "outputs": [],
   "source": [
    "df_sample"
   ]
  },
  {
   "cell_type": "code",
   "execution_count": null,
   "metadata": {
    "_uuid": "2cbd0e04b8accaf407b9ab02975da0e7a77bca95"
   },
   "outputs": [],
   "source": [
    "from collections import Counter, defaultdict\n",
    "import string\n",
    "from nltk.corpus import stopwords"
   ]
  },
  {
   "cell_type": "code",
   "execution_count": null,
   "metadata": {
    "_uuid": "196b0429a43f49e2a984af19b39bcb7b97b82cc3"
   },
   "outputs": [],
   "source": [
    "remove_punc = str.maketrans({key: None for key in string.punctuation})\n",
    "stopwords = set(stopwords.words('english'))"
   ]
  },
  {
   "cell_type": "code",
   "execution_count": null,
   "metadata": {
    "_uuid": "d458f8e2795d82791815c3a445ce8ad5d97c5ac0"
   },
   "outputs": [],
   "source": [
    "def bag_of_words(df, include=None, exclude=[]):\n",
    "    dct = defaultdict(Counter)\n",
    "    for i, speed, desc in df[['AdoptionSpeed','Description']].itertuples():\n",
    "        try:\n",
    "            desc = desc.translate(remove_punc).lower()\n",
    "        except AttributeError:\n",
    "            continue\n",
    "        for word in desc.split():\n",
    "            if (include == None or word in include) and word not in exclude:\n",
    "                dct[speed][word] += 1\n",
    "    return dct\n",
    "    "
   ]
  },
  {
   "cell_type": "code",
   "execution_count": null,
   "metadata": {
    "_uuid": "ed1250f1aefc64b68c4744cbf9eccc36fa9f4ffb"
   },
   "outputs": [],
   "source": [
    "BoW = bag_of_words(df_train, exclude=stopwords)"
   ]
  },
  {
   "cell_type": "code",
   "execution_count": null,
   "metadata": {
    "_uuid": "f90e170603debb07cf44f58c72576ca88b1f923d"
   },
   "outputs": [],
   "source": [
    "BoW[0].most_common(50)"
   ]
  },
  {
   "cell_type": "code",
   "execution_count": null,
   "metadata": {
    "_uuid": "8a12783bdf9202ff8975d38a7346b692ce21633a"
   },
   "outputs": [],
   "source": [
    "all_words = set()\n",
    "exclude = set()\n",
    "for speed in range(5):\n",
    "    freq = BoW[speed].most_common()\n",
    "    for word,_ in freq:\n",
    "        if word in all_words:\n",
    "            exclude.add(word)\n",
    "        all_words.add(word)\n",
    "include = all_words - exclude\n",
    "        "
   ]
  },
  {
   "cell_type": "code",
   "execution_count": null,
   "metadata": {
    "_uuid": "523b79fad8e29a455b25dc4be08f97eb8fe14d10",
    "scrolled": true
   },
   "outputs": [],
   "source": [
    "include"
   ]
  },
  {
   "cell_type": "code",
   "execution_count": null,
   "metadata": {
    "_uuid": "f28f0e7a5b33a7022386a62f30505f67c651a5d4"
   },
   "outputs": [],
   "source": [
    "df_train_speed0 = df_train[df_train['AdoptionSpeed'] == 0]"
   ]
  },
  {
   "cell_type": "code",
   "execution_count": null,
   "metadata": {
    "_uuid": "6ba5d8767d772ede316dd3dc720bf26512d39423"
   },
   "outputs": [],
   "source": [
    "BoW = bag_of_words(df_train)"
   ]
  },
  {
   "cell_type": "code",
   "execution_count": null,
   "metadata": {
    "_uuid": "b4f384979002301bdafdb78ce8c05b6b595a3239",
    "scrolled": true
   },
   "outputs": [],
   "source": [
    "BoW[4].most_common()"
   ]
  },
  {
   "cell_type": "code",
   "execution_count": null,
   "metadata": {
    "_uuid": "14ebe6f2b1911bf00f769c5744e4b15185120a3f",
    "scrolled": true
   },
   "outputs": [],
   "source": [
    "model_words = set()\n",
    "for k,v in BoW.items():\n",
    "    freq = v.most_common(100)\n",
    "    for word,_ in freq:\n",
    "        model_words.add(word)\n",
    "len(model_words)\n",
    "    "
   ]
  },
  {
   "cell_type": "code",
   "execution_count": null,
   "metadata": {
    "_uuid": "332905a306cad8b4355e1ee26535c1d3d5f5be2d",
    "scrolled": true
   },
   "outputs": [],
   "source": [
    "model_words"
   ]
  },
  {
   "cell_type": "code",
   "execution_count": null,
   "metadata": {
    "_uuid": "9fd3fefa224716b39b2b6f3fbf282a2cba9502f3",
    "scrolled": true
   },
   "outputs": [],
   "source": [
    "df_train_desc = df_train[['PetID','Description', 'AdoptionSpeed']].copy()\n",
    "#df_test_desc = df_test[['PetID', 'Description']].copy()"
   ]
  },
  {
   "cell_type": "code",
   "execution_count": null,
   "metadata": {
    "_uuid": "a563c2f7dc9d26cba3d51ca7e8343a0a4a4fb1fd",
    "scrolled": true
   },
   "outputs": [],
   "source": [
    "def apply_word_flags(df, words):\n",
    "    for word in words:\n",
    "        df[word] = 0\n",
    "    for i, desc in df['Description'].items():\n",
    "        try:\n",
    "            for word in desc.split():\n",
    "                if word in words:\n",
    "                    df.at[i,word] = 1\n",
    "        except AttributeError:\n",
    "            continue\n",
    "    return df"
   ]
  },
  {
   "cell_type": "code",
   "execution_count": null,
   "metadata": {
    "_uuid": "74301e6b2551cc2ad6e393611d5ec7ca402c5af3"
   },
   "outputs": [],
   "source": [
    "df_train_words = apply_word_flags(df_train_desc, model_words)\n",
    "#df_test_words = apply_word_flags(df_test_desc, model_words)"
   ]
  },
  {
   "cell_type": "code",
   "execution_count": null,
   "metadata": {
    "_uuid": "b6bb5191f2b3728d80123f69aa81ca741d055b18"
   },
   "outputs": [],
   "source": [
    "df_train_words.head()"
   ]
  },
  {
   "cell_type": "code",
   "execution_count": null,
   "metadata": {
    "_uuid": "13a196235be044375535f62bf51615612122ec2d"
   },
   "outputs": [],
   "source": [
    "from sklearn.ensemble import RandomForestClassifier"
   ]
  },
  {
   "cell_type": "code",
   "execution_count": null,
   "metadata": {
    "_uuid": "b79524b2018490177e510d039c35e0d750f5724d"
   },
   "outputs": [],
   "source": [
    "X_train_all = df_train_words.drop(columns=['PetID','AdoptionSpeed','Description'])\n",
    "y_train_all = df_train_words['AdoptionSpeed']\n",
    "# X_test = df_test_words.drop(columns=['PetID', 'Description'])\n",
    "\n",
    "from sklearn.model_selection import train_test_split\n",
    "X_train, X_test, y_train, y_test = train_test_split(X_train_all, y_train_all, test_size=0.20).copy()"
   ]
  },
  {
   "cell_type": "code",
   "execution_count": null,
   "metadata": {
    "_uuid": "d7ecdc8c617c2bcd5a4a17850e0e0f1c6c27916f"
   },
   "outputs": [],
   "source": [
    "rfc = RandomForestClassifier(n_estimators=100)\n",
    "rfc.fit(X_train, y_train)\n",
    "rfc.score(X_test, y_test)"
   ]
  },
  {
   "cell_type": "code",
   "execution_count": null,
   "metadata": {
    "_uuid": "5250d05ec215f3dd757e227c5e5858ce630bd799"
   },
   "outputs": [],
   "source": [
    "prediction = rfc.predict(X_test)"
   ]
  },
  {
   "cell_type": "code",
   "execution_count": null,
   "metadata": {
    "_uuid": "80500a12ab63e5e804ae5e1260bd590c6eb02cda"
   },
   "outputs": [],
   "source": [
    "import ml_metrics"
   ]
  },
  {
   "cell_type": "code",
   "execution_count": null,
   "metadata": {
    "_uuid": "ba90c1ed74d4a6369a2755a35b6328b18ce4ae69"
   },
   "outputs": [],
   "source": [
    "ml_metrics.quadratic_weighted_kappa(rater_a=prediction, rater_b=y_test)"
   ]
  },
  {
   "cell_type": "code",
   "execution_count": null,
   "metadata": {
    "_uuid": "62af6c7a19ec59ca1ffccf84699ea7f9f26b924e"
   },
   "outputs": [],
   "source": [
    "feature_importance = rfc.feature_importances_\n",
    "word_importance = []\n",
    "for i,word in enumerate(feature_importance):\n",
    "    word_importance.append((word, X_train.columns[i]))\n",
    "    \n",
    "    "
   ]
  },
  {
   "cell_type": "code",
   "execution_count": null,
   "metadata": {
    "_uuid": "c6f5a46f4f5fe4ae9e823d6cfa003397d8007077"
   },
   "outputs": [],
   "source": [
    "model_words = set()\n",
    "for score, word in sorted(word_importance, reverse=True):\n",
    "    if score >= 0.005:\n",
    "        model_words.add(word)\n",
    "    else:\n",
    "        break\n",
    "model_words"
   ]
  },
  {
   "cell_type": "code",
   "execution_count": null,
   "metadata": {
    "_uuid": "ae427250ca089d59c395774348769f31f8991e69"
   },
   "outputs": [],
   "source": [
    "cats = df_train_desc[df_train_desc['cat'] == 1]\n",
    "dogs = df_train_desc[df_train_desc['dog'] == 1]"
   ]
  },
  {
   "cell_type": "code",
   "execution_count": null,
   "metadata": {
    "_uuid": "ff1343c719d64f67e6879eb9e2b43cb689ceeb8e"
   },
   "outputs": [],
   "source": [
    "bins = [0,1,2,3,4, 5]"
   ]
  },
  {
   "cell_type": "code",
   "execution_count": null,
   "metadata": {
    "_uuid": "b774f05f3c968b5c10a0ce9a64e97cd3d6133221"
   },
   "outputs": [],
   "source": [
    "plt.hist(cats['AdoptionSpeed'], bins, alpha=0.5, label=\"cats\")\n",
    "plt.hist(dogs['AdoptionSpeed'], bins, alpha=0.5, label=\"dogs\")\n",
    "plt.legend(loc='upper right')\n",
    "plt.show()"
   ]
  },
  {
   "cell_type": "code",
   "execution_count": null,
   "metadata": {
    "_uuid": "98790bf32b40802f2b3fe503ef0168aac768a8e9"
   },
   "outputs": [],
   "source": []
  }
 ],
 "metadata": {
  "kernelspec": {
   "display_name": "Python 3",
   "language": "python",
   "name": "python3"
  },
  "language_info": {
   "codemirror_mode": {
    "name": "ipython",
    "version": 3
   },
   "file_extension": ".py",
   "mimetype": "text/x-python",
   "name": "python",
   "nbconvert_exporter": "python",
   "pygments_lexer": "ipython3",
   "version": "3.7.0"
  }
 },
 "nbformat": 4,
 "nbformat_minor": 1
}
