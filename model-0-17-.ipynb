{
 "cells": [
  {
   "cell_type": "markdown",
   "metadata": {},
   "source": [
    "# Model 0.16 - Combining Difference Random Seeds\n",
    "- \n"
   ]
  },
  {
   "cell_type": "code",
   "execution_count": 90,
   "metadata": {
    "_cell_guid": "b1076dfc-b9ad-4769-8c92-a6c4dae69d19",
    "_uuid": "8f2839f25d086af736a60e9eeb907d3b93b6e0e5"
   },
   "outputs": [],
   "source": [
    "import re\n",
    "import itertools\n",
    "import ml_metrics\n",
    "import string\n",
    "import nltk\n",
    "import scipy\n",
    "import numpy as np\n",
    "import pandas as pd\n",
    "import xgboost as xgb\n",
    "import seaborn as sns\n",
    "import matplotlib.pyplot as plt\n",
    "from collections import Counter, defaultdict\n",
    "from functools import lru_cache\n",
    "from scipy import stats\n",
    "from scipy.sparse import hstack\n",
    "\n",
    "# from scipy.ndimage.filters import gaussian_filter1d as gaussian\n",
    "from sklearn import preprocessing\n",
    "from sklearn.ensemble import RandomForestClassifier\n",
    "from sklearn.model_selection import train_test_split, KFold, StratifiedKFold, GroupKFold\n",
    "from sklearn.metrics import confusion_matrix, \\\n",
    "                            accuracy_score, \\\n",
    "                            precision_score, \\\n",
    "                            precision_recall_curve, \\\n",
    "                            log_loss, \\\n",
    "                            roc_auc_score, \\\n",
    "                            roc_curve\n",
    "from nltk import wordpunct_tokenize\n",
    "from nltk.corpus import stopwords\n",
    "from sklearn.feature_extraction.text import TfidfVectorizer\n",
    "from nltk.stem.porter import PorterStemmer"
   ]
  },
  {
   "cell_type": "code",
   "execution_count": 2,
   "metadata": {},
   "outputs": [],
   "source": [
    "# hides warnings - think it needs running after modules imported\n",
    "import warnings\n",
    "warnings.simplefilter(\"ignore\")"
   ]
  },
  {
   "cell_type": "code",
   "execution_count": 87,
   "metadata": {},
   "outputs": [],
   "source": [
    "rnd = 42  # random state for scoring consistency"
   ]
  },
  {
   "cell_type": "markdown",
   "metadata": {},
   "source": [
    "## Importing the data"
   ]
  },
  {
   "cell_type": "code",
   "execution_count": 4,
   "metadata": {
    "_cell_guid": "79c7e3d0-c299-4dcb-8224-4455121ee9b0",
    "_uuid": "d629ff2d2480ee46fbb7e2d37f6b5fab8052498a"
   },
   "outputs": [],
   "source": [
    "df_train = pd.read_csv(\"../input/train/train.csv\", index_col=\"PetID\")\n",
    "df_test = pd.read_csv(\"../input/test/test.csv\", index_col=\"PetID\")\n",
    "df_breeds = pd.read_csv(\"../input/breed_labels.csv\", index_col=\"BreedID\")\n",
    "df_colors = pd.read_csv(\"../input/color_labels.csv\")"
   ]
  },
  {
   "cell_type": "code",
   "execution_count": 5,
   "metadata": {
    "scrolled": true
   },
   "outputs": [],
   "source": [
    "colors = df_colors['ColorID']\n",
    "breeds = df_breeds.index"
   ]
  },
  {
   "cell_type": "markdown",
   "metadata": {},
   "source": [
    "## Functions"
   ]
  },
  {
   "cell_type": "markdown",
   "metadata": {},
   "source": [
    "### Functions: Feature Engineering"
   ]
  },
  {
   "cell_type": "code",
   "execution_count": 6,
   "metadata": {
    "_uuid": "3076eefcc83e005977b9159c9d39459e5d08e27a"
   },
   "outputs": [],
   "source": [
    "def apply_word_flags(df, words, drop=True):\n",
    "    \"\"\"Creates binary columns for words which appear in the description\"\"\"\n",
    "    for word in words:\n",
    "        df[word] = 0\n",
    "    for i, desc in df['Description'].items():\n",
    "        try:\n",
    "            for word in desc.split():\n",
    "                word = word.lower()\n",
    "                if word in words:\n",
    "                    df.at[i,word] = 1\n",
    "        except AttributeError:\n",
    "            continue\n",
    "    return df.drop(columns=['Description'] if drop else [])"
   ]
  },
  {
   "cell_type": "code",
   "execution_count": 7,
   "metadata": {},
   "outputs": [],
   "source": [
    "keywords = ['home', 'good' , 'adopt', 'loving', 'give', 'looking', 'playful', 'rescued', 'cat', 'contact']"
   ]
  },
  {
   "cell_type": "code",
   "execution_count": 8,
   "metadata": {},
   "outputs": [],
   "source": [
    "def apply_color_flags(df, colors):\n",
    "    \"\"\"Combines Colors 1,2 & 3 into binary columns for each possible colours\"\"\"\n",
    "    for c in colors:\n",
    "        df[f'Colour_{c}'] = 0\n",
    "    for i,colors in df[['Color1', 'Color2', 'Color3']].iterrows():\n",
    "        for c in colors:\n",
    "            if c != 0:\n",
    "                df.at[i,f'Colour_{c}'] = 1\n",
    "    df = df.drop(columns=['Color1', 'Color2', 'Color3'])\n",
    "    return df"
   ]
  },
  {
   "cell_type": "code",
   "execution_count": 9,
   "metadata": {},
   "outputs": [],
   "source": [
    "def create_breed_keywords(df):\n",
    "    \"\"\"Creates unique list of keywords from provided breeds dataframe\"\"\"\n",
    "    breed_keywords = []\n",
    "    for breed in df['BreedName']:\n",
    "        breed = re.sub(r'[/(/)]', '', breed)  # remove braces\n",
    "        keywords = breed.split()\n",
    "        breed_keywords += keywords\n",
    "    return set(breed_keywords)"
   ]
  },
  {
   "cell_type": "code",
   "execution_count": 10,
   "metadata": {},
   "outputs": [],
   "source": [
    "def apply_breed_flags(df, keywords, breeds):\n",
    "    \"\"\"Creates binary columns for keywords which appear in the breed name\"\"\"\n",
    "    for word in keywords:\n",
    "        df[word] = 0\n",
    "        \n",
    "    for i,pair in df[['Breed1', 'Breed2']].iterrows():\n",
    "        for indx in pair:\n",
    "            if indx == 0: continue\n",
    "            breed = breeds.loc[indx,'BreedName']\n",
    "            breed = re.sub(r'[/(/)]', '', breed)\n",
    "            new_keywords = breed.split()\n",
    "            for word in new_keywords:\n",
    "                if word in keywords: \n",
    "                    df.at[i,word] = 1\n",
    "                    \n",
    "    return df"
   ]
  },
  {
   "cell_type": "code",
   "execution_count": 11,
   "metadata": {},
   "outputs": [],
   "source": [
    "# check for specific language - defaults to english\n",
    "def language_flag(text, language='english'):\n",
    "    tokens = wordpunct_tokenize(text)\n",
    "    words = set([word.lower() for word in tokens])\n",
    "    keywords = set(stopwords.words(language))\n",
    "    common_words = words & keywords\n",
    "    return len(common_words) > 0"
   ]
  },
  {
   "cell_type": "code",
   "execution_count": 12,
   "metadata": {},
   "outputs": [],
   "source": [
    "def website_flag(text):\n",
    "    keywords = ['www.', '.org', '.my', '.com']\n",
    "    match = map(lambda x: text.find(x) >= 0, keywords)\n",
    "    return sum(match) > 0"
   ]
  },
  {
   "cell_type": "markdown",
   "metadata": {},
   "source": [
    "### Functions: Scoring "
   ]
  },
  {
   "cell_type": "code",
   "execution_count": 13,
   "metadata": {},
   "outputs": [],
   "source": [
    "# Kappa weighted prediction, also taking into account natural distribution of training truth values\n",
    "@lru_cache(maxsize=128)\n",
    "def quad_weights(i, n=5):\n",
    "    return 1-(i**2 / (n-1)**2)\n",
    "\n",
    "def weighted_prediction(proba, defaults):\n",
    "    prediction = []\n",
    "    for row in proba:\n",
    "        row = [p-defaults[i] if p-defaults[i] > 0 else 0 for i,p in enumerate(row)]\n",
    "        k_lst = []\n",
    "        for i in range(len(row)):\n",
    "            k_score = sum([p * quad_weights(abs(i-j)) for j, p in enumerate(row)])\n",
    "            k_lst.append(k_score)\n",
    "        prediction.append(np.argmax(k_lst))\n",
    "    return prediction           "
   ]
  },
  {
   "cell_type": "markdown",
   "metadata": {},
   "source": [
    "### Functions: Analyse Model "
   ]
  },
  {
   "cell_type": "code",
   "execution_count": 14,
   "metadata": {},
   "outputs": [],
   "source": [
    "# function from sklearn website example code\n",
    "def plot_confusion_matrix(cm, classes,\n",
    "                          normalize=False,\n",
    "                          title='Confusion matrix',\n",
    "                          cmap=plt.cm.Blues):\n",
    "    \"\"\"\n",
    "    This function prints and plots the confusion matrix.\n",
    "    Normalization can be applied by setting `normalize=True`.\n",
    "    \"\"\"\n",
    "    if normalize:\n",
    "        cm = cm.astype('float') / cm.sum(axis=1)[:, np.newaxis]\n",
    "#         print(\"Normalized confusion matrix\")\n",
    "    else:\n",
    "        print('Confusion matrix, without normalization')\n",
    "\n",
    "#     print(cm)\n",
    "\n",
    "    plt.imshow(cm, interpolation='nearest', cmap=cmap)\n",
    "    plt.title(title)\n",
    "    plt.colorbar()\n",
    "    tick_marks = np.arange(len(classes))\n",
    "    plt.xticks(tick_marks, classes,)\n",
    "    plt.yticks(tick_marks, classes)\n",
    "\n",
    "    fmt = '.2f' if normalize else 'd'\n",
    "    thresh = cm.max() / 2.\n",
    "    for i, j in itertools.product(range(cm.shape[0]), range(cm.shape[1])):\n",
    "        plt.text(j, i, format(cm[i, j], fmt),\n",
    "                 horizontalalignment=\"center\",\n",
    "                 color=\"white\" if cm[i, j] > thresh else \"black\")\n",
    "\n",
    "    plt.ylabel('True label')\n",
    "    plt.xlabel('Predicted label')\n",
    "    plt.tight_layout()"
   ]
  },
  {
   "cell_type": "markdown",
   "metadata": {},
   "source": [
    "## Preparing data"
   ]
  },
  {
   "cell_type": "code",
   "execution_count": 15,
   "metadata": {},
   "outputs": [],
   "source": [
    "# Combine test and training data\n",
    "df_combined = pd.concat([df_test, df_train], sort=False)\n",
    "df_combined['test'] = df_combined['AdoptionSpeed'].isna()\n",
    "df_combined['Description'] = df_combined['Description'].fillna('')\n",
    "description = df_combined['Description']\n",
    "\n",
    "# Rescuer\n",
    "rescue_map = Counter(df_combined['RescuerID'])\n",
    "rescuer_counts = df_combined['RescuerID'].map(rescue_map)\n",
    "\n",
    "# Breeds\n",
    "all_test_breeds = df_test['Breed1'].append(df_test['Breed2'])\n",
    "df_test_breeds = df_breeds.loc[all_test_breeds[all_test_breeds > 0].unique(), :]\n",
    "breed_keywords = create_breed_keywords(df_test_breeds)\n",
    "\n",
    "# Prepare data for modelling \n",
    "df_combined['english'] = description.apply(language_flag)\n",
    "df_combined['website'] = description.apply(website_flag)\n",
    "df_combined['rescuer_counts'] = rescuer_counts\n",
    "df_combined['desc_length'] = df_combined['Description'].apply(len)\n",
    "df_combined['desc_word_count'] = df_combined['Description'].apply(lambda x: len(x.split()))\n",
    "\n",
    "df_combined = apply_word_flags(df_combined, keywords, drop=False)\n",
    "df_combined = apply_color_flags(df_combined, colors)\n",
    "df_combined = apply_breed_flags(df_combined, breed_keywords, df_breeds)\n",
    "df_combined = pd.get_dummies(df_combined, columns=['Gender',\n",
    "                                                   'Vaccinated', 'Dewormed', \n",
    "                                                   'State'])\n",
    "y_train_all = df_combined['AdoptionSpeed'][df_combined['test'] != 1]\n",
    "X_all       = df_combined.drop(columns=['Name', 'AdoptionSpeed', 'RescuerID', 'Breed1', 'Breed2', 'Sterilized'])\n",
    "X_train_all = X_all[X_all['test'] != 1].drop(columns=['test'])\n",
    "X_test_all  = X_all[X_all['test'] == 1].drop(columns=['test'])"
   ]
  },
  {
   "cell_type": "code",
   "execution_count": 16,
   "metadata": {},
   "outputs": [],
   "source": [
    "# remove description feature\n",
    "X_train_all = X_train_all.drop(columns=['Description'])\n",
    "X_test_all  = X_test_all.drop(columns=['Description'])"
   ]
  },
  {
   "cell_type": "markdown",
   "metadata": {},
   "source": [
    "## Test XGBoost model"
   ]
  },
  {
   "cell_type": "code",
   "execution_count": 17,
   "metadata": {},
   "outputs": [],
   "source": [
    "params = {'max_depth': 4, \n",
    "          'learning_rate': 0.2, \n",
    "          'n_estimators': 200, \n",
    "          'silent': True, \n",
    "          'objective': 'multi:softprob', \n",
    "          'booster': 'gbtree',\n",
    "          'tree_method': 'hist',\n",
    "          'n_jobs': 3,\n",
    "          'gamma': 0, \n",
    "          'min_child_weight': 1, \n",
    "          'max_delta_step': 0, \n",
    "          'subsample': 0.8, \n",
    "          'colsample_bytree': 1, \n",
    "          'colsample_bylevel': 1, \n",
    "          'reg_alpha': 0, \n",
    "          'reg_lambda': 1, \n",
    "          'scale_pos_weight': 1, \n",
    "          'base_score': 0.2, \n",
    "          'random_state': rnd, \n",
    "          'missing': None,\n",
    "          'verbose': 0,\n",
    "          'verbosity': 3,}"
   ]
  },
  {
   "cell_type": "code",
   "execution_count": 18,
   "metadata": {
    "scrolled": true
   },
   "outputs": [],
   "source": [
    "def cv_testing(X, y, params, folds=5, dataframe=True):\n",
    "\n",
    "    scores = defaultdict(list)\n",
    "\n",
    "    skf = StratifiedKFold(n_splits=folds, shuffle=True, random_state=rnd)\n",
    "    folds = skf.split(X, y)\n",
    "\n",
    "    for i, (train_indx, test_indx) in enumerate(folds, 1):\n",
    "        \n",
    "        print(f\"Fold {i}\")\n",
    "        \n",
    "        # flag dataframe determines whether to use iloc or \"normal\" masking for (sparse) arrays\n",
    "        if not dataframe:\n",
    "            X_train, X_test = X[train_indx], X[test_indx]\n",
    "            y_train, y_test = y[train_indx], y[test_indx]\n",
    "        else:\n",
    "            X_train, X_test = X.iloc[train_indx], X.iloc[test_indx]\n",
    "            y_train, y_test = y.iloc[train_indx], y.iloc[test_indx]\n",
    "\n",
    "            \n",
    "        clf = xgb.XGBClassifier(**params)\n",
    "\n",
    "        clf.fit(X_train, y_train)\n",
    "\n",
    "#         prediction = clf.predict(X_test)\n",
    "        proba = clf.predict_proba(X_test)\n",
    "        \n",
    "        # alternative kappa weighted consideration\n",
    "        total_count = y_train.shape[0]\n",
    "        defaults = {k:v/total_count for k,v in Counter(y_train).items()}\n",
    "        prediction = weighted_prediction(proba, defaults)\n",
    "        \n",
    "\n",
    "        scores['kappa'].append(ml_metrics.quadratic_weighted_kappa(rater_a=y_test, rater_b=prediction))\n",
    "        scores['accuracy'].append(accuracy_score(y_test, prediction))\n",
    "        scores['confusion'].append(confusion_matrix(y_test, prediction))\n",
    "        scores['precision'].append(precision_score(y_test, prediction, average=None))        \n",
    "    \n",
    "    print()\n",
    "    \n",
    "    return scores"
   ]
  },
  {
   "cell_type": "code",
   "execution_count": 19,
   "metadata": {
    "scrolled": true
   },
   "outputs": [
    {
     "name": "stdout",
     "output_type": "stream",
     "text": [
      "Fold 1\n",
      "[21:30:17] Tree method is selected to be 'hist', which uses a single updater grow_fast_histmaker.\n",
      "Fold 2\n",
      "[21:30:30] Tree method is selected to be 'hist', which uses a single updater grow_fast_histmaker.\n",
      "Fold 3\n",
      "[21:30:41] Tree method is selected to be 'hist', which uses a single updater grow_fast_histmaker.\n",
      "Fold 4\n",
      "[21:30:54] Tree method is selected to be 'hist', which uses a single updater grow_fast_histmaker.\n",
      "Fold 5\n",
      "[21:31:08] Tree method is selected to be 'hist', which uses a single updater grow_fast_histmaker.\n",
      "Fold 6\n",
      "[21:31:19] Tree method is selected to be 'hist', which uses a single updater grow_fast_histmaker.\n",
      "Fold 7\n",
      "[21:31:29] Tree method is selected to be 'hist', which uses a single updater grow_fast_histmaker.\n",
      "Fold 8\n",
      "[21:31:40] Tree method is selected to be 'hist', which uses a single updater grow_fast_histmaker.\n",
      "Fold 9\n",
      "[21:31:50] Tree method is selected to be 'hist', which uses a single updater grow_fast_histmaker.\n",
      "Fold 10\n",
      "[21:32:01] Tree method is selected to be 'hist', which uses a single updater grow_fast_histmaker.\n",
      "\n"
     ]
    }
   ],
   "source": [
    "scores = cv_testing(X=X_train_all, y=y_train_all, folds=10, params=params, dataframe=True)"
   ]
  },
  {
   "cell_type": "code",
   "execution_count": 20,
   "metadata": {},
   "outputs": [
    {
     "data": {
      "image/png": "[encoded data removed]",
      "text/plain": [
       "<Figure size 432x288 with 2 Axes>"
      ]
     },
     "metadata": {
      "needs_background": "light"
     },
     "output_type": "display_data"
    }
   ],
   "source": [
    "# plot normalised (by row) confusion matrix\n",
    "cm = sum(scores['confusion'])  # sums element-wise\n",
    "plt.figure()\n",
    "plot_confusion_matrix(cm, classes=[0,1,2,3,4], normalize=True,\n",
    "                      title='Normalized confusion matrix')\n",
    "plt.show()"
   ]
  },
  {
   "cell_type": "code",
   "execution_count": 21,
   "metadata": {},
   "outputs": [
    {
     "data": {
      "text/plain": [
       "<BarContainer object of 5 artists>"
      ]
     },
     "execution_count": 21,
     "metadata": {},
     "output_type": "execute_result"
    },
    {
     "data": {
      "image/png": "[encoded data removed]",
      "text/plain": [
       "<Figure size 432x288 with 1 Axes>"
      ]
     },
     "metadata": {
      "needs_background": "light"
     },
     "output_type": "display_data"
    }
   ],
   "source": [
    "# plot average precision for each class\n",
    "plt.bar([0,1,2,3,4], sum(scores['precision']) / len(scores['precision']))"
   ]
  },
  {
   "cell_type": "code",
   "execution_count": 53,
   "metadata": {
    "scrolled": true
   },
   "outputs": [
    {
     "name": "stdout",
     "output_type": "stream",
     "text": [
      "accuracy:      0.424\n",
      "kappa: mean    0.413\n",
      "       median  0.41\n",
      "       min     0.39\n",
      "       max     0.446\n"
     ]
    }
   ],
   "source": [
    "# 0.413\n",
    "kappa_mean   = np.mean(scores['kappa'])\n",
    "kappa_median = np.median(scores['kappa'])\n",
    "kappa_min    = np.min(scores['kappa'])\n",
    "kappa_max    = np.max(scores['kappa'])\n",
    "print( \"accuracy:      {:.3}\".format(np.mean(scores['accuracy'])))\n",
    "print(f\"kappa: mean    {kappa_mean:.3}\")\n",
    "print(f\"       median  {kappa_median:.3}\")\n",
    "print(f\"       min     {kappa_min:.3}\")\n",
    "print(f\"       max     {kappa_max:.3}\")"
   ]
  },
  {
   "cell_type": "markdown",
   "metadata": {},
   "source": [
    "### Investigate the effect of varying the seed"
   ]
  },
  {
   "cell_type": "code",
   "execution_count": 88,
   "metadata": {},
   "outputs": [
    {
     "name": "stdout",
     "output_type": "stream",
     "text": [
      "Fold 1\n",
      "[21:04:52] Tree method is selected to be 'hist', which uses a single updater grow_fast_histmaker.\n",
      "Fold 2\n",
      "[21:05:00] Tree method is selected to be 'hist', which uses a single updater grow_fast_histmaker.\n",
      "Fold 3\n",
      "[21:05:09] Tree method is selected to be 'hist', which uses a single updater grow_fast_histmaker.\n",
      "Fold 4\n",
      "[21:05:18] Tree method is selected to be 'hist', which uses a single updater grow_fast_histmaker.\n",
      "Fold 5\n",
      "[21:05:26] Tree method is selected to be 'hist', which uses a single updater grow_fast_histmaker.\n",
      "Fold 6\n",
      "[21:05:34] Tree method is selected to be 'hist', which uses a single updater grow_fast_histmaker.\n",
      "Fold 7\n",
      "[21:05:42] Tree method is selected to be 'hist', which uses a single updater grow_fast_histmaker.\n",
      "Fold 8\n",
      "[21:05:51] Tree method is selected to be 'hist', which uses a single updater grow_fast_histmaker.\n",
      "Fold 9\n",
      "[21:06:00] Tree method is selected to be 'hist', which uses a single updater grow_fast_histmaker.\n",
      "Fold 10\n",
      "[21:06:08] Tree method is selected to be 'hist', which uses a single updater grow_fast_histmaker.\n",
      "\n",
      "Fold 1\n",
      "[21:06:17] Tree method is selected to be 'hist', which uses a single updater grow_fast_histmaker.\n",
      "Fold 2\n",
      "[21:06:25] Tree method is selected to be 'hist', which uses a single updater grow_fast_histmaker.\n",
      "Fold 3\n",
      "[21:06:34] Tree method is selected to be 'hist', which uses a single updater grow_fast_histmaker.\n",
      "Fold 4\n",
      "[21:06:42] Tree method is selected to be 'hist', which uses a single updater grow_fast_histmaker.\n",
      "Fold 5\n",
      "[21:06:51] Tree method is selected to be 'hist', which uses a single updater grow_fast_histmaker.\n",
      "Fold 6\n",
      "[21:06:59] Tree method is selected to be 'hist', which uses a single updater grow_fast_histmaker.\n",
      "Fold 7\n",
      "[21:07:07] Tree method is selected to be 'hist', which uses a single updater grow_fast_histmaker.\n",
      "Fold 8\n",
      "[21:07:16] Tree method is selected to be 'hist', which uses a single updater grow_fast_histmaker.\n",
      "Fold 9\n",
      "[21:07:24] Tree method is selected to be 'hist', which uses a single updater grow_fast_histmaker.\n",
      "Fold 10\n",
      "[21:07:32] Tree method is selected to be 'hist', which uses a single updater grow_fast_histmaker.\n",
      "\n",
      "Fold 1\n",
      "[21:07:41] Tree method is selected to be 'hist', which uses a single updater grow_fast_histmaker.\n",
      "Fold 2\n",
      "[21:07:49] Tree method is selected to be 'hist', which uses a single updater grow_fast_histmaker.\n",
      "Fold 3\n",
      "[21:07:58] Tree method is selected to be 'hist', which uses a single updater grow_fast_histmaker.\n",
      "Fold 4\n",
      "[21:08:06] Tree method is selected to be 'hist', which uses a single updater grow_fast_histmaker.\n",
      "Fold 5\n",
      "[21:08:15] Tree method is selected to be 'hist', which uses a single updater grow_fast_histmaker.\n",
      "Fold 6\n",
      "[21:08:23] Tree method is selected to be 'hist', which uses a single updater grow_fast_histmaker.\n",
      "Fold 7\n",
      "[21:08:32] Tree method is selected to be 'hist', which uses a single updater grow_fast_histmaker.\n",
      "Fold 8\n",
      "[21:08:40] Tree method is selected to be 'hist', which uses a single updater grow_fast_histmaker.\n",
      "Fold 9\n",
      "[21:08:49] Tree method is selected to be 'hist', which uses a single updater grow_fast_histmaker.\n",
      "Fold 10\n",
      "[21:08:57] Tree method is selected to be 'hist', which uses a single updater grow_fast_histmaker.\n",
      "\n",
      "Fold 1\n",
      "[21:09:06] Tree method is selected to be 'hist', which uses a single updater grow_fast_histmaker.\n",
      "Fold 2\n",
      "[21:09:14] Tree method is selected to be 'hist', which uses a single updater grow_fast_histmaker.\n",
      "Fold 3\n",
      "[21:09:22] Tree method is selected to be 'hist', which uses a single updater grow_fast_histmaker.\n",
      "Fold 4\n",
      "[21:09:31] Tree method is selected to be 'hist', which uses a single updater grow_fast_histmaker.\n",
      "Fold 5\n",
      "[21:09:39] Tree method is selected to be 'hist', which uses a single updater grow_fast_histmaker.\n",
      "Fold 6\n",
      "[21:09:47] Tree method is selected to be 'hist', which uses a single updater grow_fast_histmaker.\n",
      "Fold 7\n",
      "[21:09:56] Tree method is selected to be 'hist', which uses a single updater grow_fast_histmaker.\n",
      "Fold 8\n",
      "[21:10:04] Tree method is selected to be 'hist', which uses a single updater grow_fast_histmaker.\n",
      "Fold 9\n",
      "[21:10:12] Tree method is selected to be 'hist', which uses a single updater grow_fast_histmaker.\n",
      "Fold 10\n",
      "[21:10:21] Tree method is selected to be 'hist', which uses a single updater grow_fast_histmaker.\n",
      "\n",
      "Fold 1\n",
      "[21:10:29] Tree method is selected to be 'hist', which uses a single updater grow_fast_histmaker.\n",
      "Fold 2\n",
      "[21:10:38] Tree method is selected to be 'hist', which uses a single updater grow_fast_histmaker.\n",
      "Fold 3\n",
      "[21:10:46] Tree method is selected to be 'hist', which uses a single updater grow_fast_histmaker.\n",
      "Fold 4\n",
      "[21:10:55] Tree method is selected to be 'hist', which uses a single updater grow_fast_histmaker.\n",
      "Fold 5\n",
      "[21:11:04] Tree method is selected to be 'hist', which uses a single updater grow_fast_histmaker.\n",
      "Fold 6\n",
      "[21:11:12] Tree method is selected to be 'hist', which uses a single updater grow_fast_histmaker.\n",
      "Fold 7\n",
      "[21:11:21] Tree method is selected to be 'hist', which uses a single updater grow_fast_histmaker.\n",
      "Fold 8\n",
      "[21:11:30] Tree method is selected to be 'hist', which uses a single updater grow_fast_histmaker.\n",
      "Fold 9\n",
      "[21:11:38] Tree method is selected to be 'hist', which uses a single updater grow_fast_histmaker.\n",
      "Fold 10\n",
      "[21:11:46] Tree method is selected to be 'hist', which uses a single updater grow_fast_histmaker.\n",
      "\n",
      "Fold 1\n",
      "[21:11:55] Tree method is selected to be 'hist', which uses a single updater grow_fast_histmaker.\n",
      "Fold 2\n",
      "[21:12:04] Tree method is selected to be 'hist', which uses a single updater grow_fast_histmaker.\n",
      "Fold 3\n",
      "[21:12:12] Tree method is selected to be 'hist', which uses a single updater grow_fast_histmaker.\n",
      "Fold 4\n",
      "[21:12:21] Tree method is selected to be 'hist', which uses a single updater grow_fast_histmaker.\n",
      "Fold 5\n",
      "[21:12:29] Tree method is selected to be 'hist', which uses a single updater grow_fast_histmaker.\n",
      "Fold 6\n",
      "[21:12:38] Tree method is selected to be 'hist', which uses a single updater grow_fast_histmaker.\n",
      "Fold 7\n",
      "[21:12:46] Tree method is selected to be 'hist', which uses a single updater grow_fast_histmaker.\n",
      "Fold 8\n",
      "[21:12:55] Tree method is selected to be 'hist', which uses a single updater grow_fast_histmaker.\n",
      "Fold 9\n",
      "[21:13:11] Tree method is selected to be 'hist', which uses a single updater grow_fast_histmaker.\n",
      "Fold 10\n",
      "[21:13:19] Tree method is selected to be 'hist', which uses a single updater grow_fast_histmaker.\n",
      "\n",
      "Fold 1\n",
      "[21:13:27] Tree method is selected to be 'hist', which uses a single updater grow_fast_histmaker.\n",
      "Fold 2\n",
      "[21:13:36] Tree method is selected to be 'hist', which uses a single updater grow_fast_histmaker.\n",
      "Fold 3\n",
      "[21:13:44] Tree method is selected to be 'hist', which uses a single updater grow_fast_histmaker.\n",
      "Fold 4\n",
      "[21:13:53] Tree method is selected to be 'hist', which uses a single updater grow_fast_histmaker.\n",
      "Fold 5\n",
      "[21:14:01] Tree method is selected to be 'hist', which uses a single updater grow_fast_histmaker.\n",
      "Fold 6\n",
      "[21:14:10] Tree method is selected to be 'hist', which uses a single updater grow_fast_histmaker.\n",
      "Fold 7\n",
      "[21:14:18] Tree method is selected to be 'hist', which uses a single updater grow_fast_histmaker.\n",
      "Fold 8\n",
      "[21:14:27] Tree method is selected to be 'hist', which uses a single updater grow_fast_histmaker.\n",
      "Fold 9\n",
      "[21:14:35] Tree method is selected to be 'hist', which uses a single updater grow_fast_histmaker.\n",
      "Fold 10\n",
      "[21:14:43] Tree method is selected to be 'hist', which uses a single updater grow_fast_histmaker.\n",
      "\n",
      "Fold 1\n",
      "[21:14:52] Tree method is selected to be 'hist', which uses a single updater grow_fast_histmaker.\n",
      "Fold 2\n",
      "[21:15:00] Tree method is selected to be 'hist', which uses a single updater grow_fast_histmaker.\n",
      "Fold 3\n",
      "[21:15:09] Tree method is selected to be 'hist', which uses a single updater grow_fast_histmaker.\n",
      "Fold 4\n",
      "[21:15:17] Tree method is selected to be 'hist', which uses a single updater grow_fast_histmaker.\n",
      "Fold 5\n",
      "[21:15:28] Tree method is selected to be 'hist', which uses a single updater grow_fast_histmaker.\n",
      "Fold 6\n",
      "[21:15:45] Tree method is selected to be 'hist', which uses a single updater grow_fast_histmaker.\n",
      "Fold 7\n",
      "[21:15:54] Tree method is selected to be 'hist', which uses a single updater grow_fast_histmaker.\n",
      "Fold 8\n",
      "[21:16:02] Tree method is selected to be 'hist', which uses a single updater grow_fast_histmaker.\n"
     ]
    },
    {
     "name": "stdout",
     "output_type": "stream",
     "text": [
      "Fold 9\n",
      "[21:16:10] Tree method is selected to be 'hist', which uses a single updater grow_fast_histmaker.\n",
      "Fold 10\n",
      "[21:16:21] Tree method is selected to be 'hist', which uses a single updater grow_fast_histmaker.\n",
      "\n",
      "Fold 1\n",
      "[21:16:44] Tree method is selected to be 'hist', which uses a single updater grow_fast_histmaker.\n",
      "Fold 2\n",
      "[21:16:55] Tree method is selected to be 'hist', which uses a single updater grow_fast_histmaker.\n",
      "Fold 3\n",
      "[21:17:07] Tree method is selected to be 'hist', which uses a single updater grow_fast_histmaker.\n",
      "Fold 4\n",
      "[21:17:32] Tree method is selected to be 'hist', which uses a single updater grow_fast_histmaker.\n",
      "Fold 5\n",
      "[21:17:43] Tree method is selected to be 'hist', which uses a single updater grow_fast_histmaker.\n",
      "Fold 6\n",
      "[21:18:04] Tree method is selected to be 'hist', which uses a single updater grow_fast_histmaker.\n",
      "Fold 7\n",
      "[21:18:21] Tree method is selected to be 'hist', which uses a single updater grow_fast_histmaker.\n",
      "Fold 8\n",
      "[21:18:32] Tree method is selected to be 'hist', which uses a single updater grow_fast_histmaker.\n",
      "Fold 9\n",
      "[21:18:59] Tree method is selected to be 'hist', which uses a single updater grow_fast_histmaker.\n",
      "Fold 10\n",
      "[21:19:14] Tree method is selected to be 'hist', which uses a single updater grow_fast_histmaker.\n",
      "\n",
      "Fold 1\n",
      "[21:19:25] Tree method is selected to be 'hist', which uses a single updater grow_fast_histmaker.\n",
      "Fold 2\n",
      "[21:19:37] Tree method is selected to be 'hist', which uses a single updater grow_fast_histmaker.\n",
      "Fold 3\n",
      "[21:20:02] Tree method is selected to be 'hist', which uses a single updater grow_fast_histmaker.\n",
      "Fold 4\n",
      "[21:20:16] Tree method is selected to be 'hist', which uses a single updater grow_fast_histmaker.\n",
      "Fold 5\n",
      "[21:20:27] Tree method is selected to be 'hist', which uses a single updater grow_fast_histmaker.\n",
      "Fold 6\n",
      "[21:20:47] Tree method is selected to be 'hist', which uses a single updater grow_fast_histmaker.\n",
      "Fold 7\n",
      "[21:21:01] Tree method is selected to be 'hist', which uses a single updater grow_fast_histmaker.\n",
      "Fold 8\n",
      "[21:21:13] Tree method is selected to be 'hist', which uses a single updater grow_fast_histmaker.\n",
      "Fold 9\n",
      "[21:21:36] Tree method is selected to be 'hist', which uses a single updater grow_fast_histmaker.\n",
      "Fold 10\n",
      "[21:21:53] Tree method is selected to be 'hist', which uses a single updater grow_fast_histmaker.\n",
      "\n"
     ]
    }
   ],
   "source": [
    "# loop through 10 random seends\n",
    "random_dct = {}\n",
    "for seed in np.linspace(1,400,10, dtype=int):\n",
    "    params['random_state'] = seed\n",
    "    scores = cv_testing(X=X_train_all, y=y_train_all, folds=10, params=params, dataframe=True)\n",
    "    random_dct[seed] = scores['kappa']   "
   ]
  },
  {
   "cell_type": "code",
   "execution_count": 89,
   "metadata": {
    "scrolled": true
   },
   "outputs": [
    {
     "data": {
      "text/plain": [
       "<matplotlib.axes._subplots.AxesSubplot at 0x7fa0da9d5c50>"
      ]
     },
     "execution_count": 89,
     "metadata": {},
     "output_type": "execute_result"
    },
    {
     "data": {
      "image/png": "[encoded data removed]",
      "text/plain": [
       "<Figure size 432x288 with 1 Axes>"
      ]
     },
     "metadata": {
      "needs_background": "light"
     },
     "output_type": "display_data"
    }
   ],
   "source": [
    "# Plot 10-fold Kappa scores per random seed and plot\n",
    "# Results show large variation between seeds 0.37 -> 0.45! (8%)\n",
    "y = list(random_dct.values())\n",
    "x = list(random_dct.keys())\n",
    "sns.boxplot(y=y, x=x)"
   ]
  },
  {
   "cell_type": "markdown",
   "metadata": {},
   "source": [
    "### Incrementing number of seeds and merging results"
   ]
  },
  {
   "cell_type": "code",
   "execution_count": 142,
   "metadata": {},
   "outputs": [],
   "source": [
    "# function incorporates a number of predictions in each run - be best in separate functions?\n",
    "def k_seed_testing(X, y, params, folds=10, seeds=1, dataframe=True):\n",
    "\n",
    "    scores = defaultdict(list)\n",
    "\n",
    "    skf = StratifiedKFold(n_splits=folds, shuffle=True, random_state=42)\n",
    "    folds = skf.split(X, y)\n",
    "\n",
    "    for i, (train_indx, test_indx) in enumerate(folds, 1):\n",
    "        \n",
    "        print(f\"Fold {i}\")\n",
    "        \n",
    "        # flag dataframe determines whether to use iloc or \"normal\" masking for (sparse) arrays\n",
    "        if not dataframe:\n",
    "            X_train, X_test = X[train_indx], X[test_indx]\n",
    "            y_train, y_test = y[train_indx], y[test_indx]\n",
    "        else:\n",
    "            X_train, X_test = X.iloc[train_indx], X.iloc[test_indx]\n",
    "            y_train, y_test = y.iloc[train_indx], y.iloc[test_indx]\n",
    "            \n",
    "        \n",
    "        seed_dct = {}\n",
    "        for mult in range(1,seeds+1):\n",
    "            params['random_state'] = rnd * mult\n",
    "\n",
    "            clf = xgb.XGBClassifier(**params)\n",
    "\n",
    "            clf.fit(X_train, y_train)\n",
    "\n",
    "    #         prediction = clf.predict(X_test)\n",
    "            proba = clf.predict_proba(X_test)\n",
    "\n",
    "            # alternative kappa weighted consideration\n",
    "            total_count = y_train.shape[0]\n",
    "            defaults = {k:v/total_count for k,v in Counter(y_train).items()}\n",
    "            prediction = weighted_prediction(proba, defaults)\n",
    "            \n",
    "            # add prediction to seed dct\n",
    "            seed_dct[seed] = prediction\n",
    "        \n",
    "        # create new prediction based on combination (mode) of seed dct\n",
    "        prediction = stats.mode(list(seed_dct.values()))[0][0]\n",
    "    \n",
    "        scores['kappa'].append(ml_metrics.quadratic_weighted_kappa(rater_a=y_test, rater_b=prediction))\n",
    "        scores['accuracy'].append(accuracy_score(y_test, prediction))\n",
    "        scores['confusion'].append(confusion_matrix(y_test, prediction))\n",
    "        scores['precision'].append(precision_score(y_test, prediction, average=None))        \n",
    "    \n",
    "    print()\n",
    "    \n",
    "    return scores"
   ]
  },
  {
   "cell_type": "code",
   "execution_count": 143,
   "metadata": {},
   "outputs": [
    {
     "name": "stdout",
     "output_type": "stream",
     "text": [
      "Fold 1\n",
      "[19:15:33] Tree method is selected to be 'hist', which uses a single updater grow_fast_histmaker.\n",
      "[19:15:39] Tree method is selected to be 'hist', which uses a single updater grow_fast_histmaker.\n",
      "Fold 2\n",
      "[19:15:46] Tree method is selected to be 'hist', which uses a single updater grow_fast_histmaker.\n",
      "[19:15:52] Tree method is selected to be 'hist', which uses a single updater grow_fast_histmaker.\n",
      "\n"
     ]
    }
   ],
   "source": [
    "# test new function\n",
    "scores = k_seed_testing(X=X_train_all, y=y_train_all, folds=2, seeds=2, params=params)"
   ]
  },
  {
   "cell_type": "code",
   "execution_count": 146,
   "metadata": {},
   "outputs": [
    {
     "name": "stdout",
     "output_type": "stream",
     "text": [
      "Fold 1\n",
      "[21:07:52] Tree method is selected to be 'hist', which uses a single updater grow_fast_histmaker.\n",
      "Fold 2\n",
      "[21:08:01] Tree method is selected to be 'hist', which uses a single updater grow_fast_histmaker.\n"
     ]
    },
    {
     "ename": "KeyboardInterrupt",
     "evalue": "",
     "output_type": "error",
     "traceback": [
      "\u001b[0;31m---------------------------------------------------------------------------\u001b[0m",
      "\u001b[0;31mKeyboardInterrupt\u001b[0m                         Traceback (most recent call last)",
      "\u001b[0;32m<ipython-input-146-f8548c5a027f>\u001b[0m in \u001b[0;36m<module>\u001b[0;34m()\u001b[0m\n\u001b[1;32m      2\u001b[0m \u001b[0mboxplot_x\u001b[0m \u001b[0;34m=\u001b[0m \u001b[0mlist\u001b[0m\u001b[0;34m(\u001b[0m\u001b[0mrange\u001b[0m\u001b[0;34m(\u001b[0m\u001b[0;36m1\u001b[0m\u001b[0;34m,\u001b[0m\u001b[0;36m10\u001b[0m\u001b[0;34m)\u001b[0m\u001b[0;34m)\u001b[0m\u001b[0;34m\u001b[0m\u001b[0;34m\u001b[0m\u001b[0m\n\u001b[1;32m      3\u001b[0m \u001b[0;32mfor\u001b[0m \u001b[0mseeds\u001b[0m \u001b[0;32min\u001b[0m \u001b[0mboxplot_x\u001b[0m\u001b[0;34m:\u001b[0m\u001b[0;34m\u001b[0m\u001b[0;34m\u001b[0m\u001b[0m\n\u001b[0;32m----> 4\u001b[0;31m     \u001b[0mscores\u001b[0m \u001b[0;34m=\u001b[0m \u001b[0mk_seed_testing\u001b[0m\u001b[0;34m(\u001b[0m\u001b[0mX\u001b[0m\u001b[0;34m=\u001b[0m\u001b[0mX_train_all\u001b[0m\u001b[0;34m,\u001b[0m \u001b[0my\u001b[0m\u001b[0;34m=\u001b[0m\u001b[0my_train_all\u001b[0m\u001b[0;34m,\u001b[0m \u001b[0mfolds\u001b[0m\u001b[0;34m=\u001b[0m\u001b[0;36m10\u001b[0m\u001b[0;34m,\u001b[0m \u001b[0mseeds\u001b[0m\u001b[0;34m=\u001b[0m\u001b[0mseeds\u001b[0m\u001b[0;34m,\u001b[0m \u001b[0mparams\u001b[0m\u001b[0;34m=\u001b[0m\u001b[0mparams\u001b[0m\u001b[0;34m)\u001b[0m\u001b[0;34m\u001b[0m\u001b[0;34m\u001b[0m\u001b[0m\n\u001b[0m\u001b[1;32m      5\u001b[0m     \u001b[0mboxplot_y\u001b[0m\u001b[0;34m.\u001b[0m\u001b[0mappend\u001b[0m\u001b[0;34m(\u001b[0m\u001b[0mscores\u001b[0m\u001b[0;34m[\u001b[0m\u001b[0;34m'accuracy'\u001b[0m\u001b[0;34m]\u001b[0m\u001b[0;34m)\u001b[0m\u001b[0;34m\u001b[0m\u001b[0;34m\u001b[0m\u001b[0m\n",
      "\u001b[0;32m<ipython-input-142-f3fb0f179e4d>\u001b[0m in \u001b[0;36mk_seed_testing\u001b[0;34m(X, y, params, folds, seeds, dataframe)\u001b[0m\n\u001b[1;32m     26\u001b[0m             \u001b[0mclf\u001b[0m \u001b[0;34m=\u001b[0m \u001b[0mxgb\u001b[0m\u001b[0;34m.\u001b[0m\u001b[0mXGBClassifier\u001b[0m\u001b[0;34m(\u001b[0m\u001b[0;34m**\u001b[0m\u001b[0mparams\u001b[0m\u001b[0;34m)\u001b[0m\u001b[0;34m\u001b[0m\u001b[0;34m\u001b[0m\u001b[0m\n\u001b[1;32m     27\u001b[0m \u001b[0;34m\u001b[0m\u001b[0m\n\u001b[0;32m---> 28\u001b[0;31m             \u001b[0mclf\u001b[0m\u001b[0;34m.\u001b[0m\u001b[0mfit\u001b[0m\u001b[0;34m(\u001b[0m\u001b[0mX_train\u001b[0m\u001b[0;34m,\u001b[0m \u001b[0my_train\u001b[0m\u001b[0;34m)\u001b[0m\u001b[0;34m\u001b[0m\u001b[0;34m\u001b[0m\u001b[0m\n\u001b[0m\u001b[1;32m     29\u001b[0m \u001b[0;34m\u001b[0m\u001b[0m\n\u001b[1;32m     30\u001b[0m     \u001b[0;31m#         prediction = clf.predict(X_test)\u001b[0m\u001b[0;34m\u001b[0m\u001b[0;34m\u001b[0m\u001b[0;34m\u001b[0m\u001b[0m\n",
      "\u001b[0;32m~/anaconda3/lib/python3.7/site-packages/xgboost/sklearn.py\u001b[0m in \u001b[0;36mfit\u001b[0;34m(self, X, y, sample_weight, eval_set, eval_metric, early_stopping_rounds, verbose, xgb_model, sample_weight_eval_set, callbacks)\u001b[0m\n\u001b[1;32m    698\u001b[0m                               \u001b[0mevals_result\u001b[0m\u001b[0;34m=\u001b[0m\u001b[0mevals_result\u001b[0m\u001b[0;34m,\u001b[0m \u001b[0mobj\u001b[0m\u001b[0;34m=\u001b[0m\u001b[0mobj\u001b[0m\u001b[0;34m,\u001b[0m \u001b[0mfeval\u001b[0m\u001b[0;34m=\u001b[0m\u001b[0mfeval\u001b[0m\u001b[0;34m,\u001b[0m\u001b[0;34m\u001b[0m\u001b[0;34m\u001b[0m\u001b[0m\n\u001b[1;32m    699\u001b[0m                               \u001b[0mverbose_eval\u001b[0m\u001b[0;34m=\u001b[0m\u001b[0mverbose\u001b[0m\u001b[0;34m,\u001b[0m \u001b[0mxgb_model\u001b[0m\u001b[0;34m=\u001b[0m\u001b[0;32mNone\u001b[0m\u001b[0;34m,\u001b[0m\u001b[0;34m\u001b[0m\u001b[0;34m\u001b[0m\u001b[0m\n\u001b[0;32m--> 700\u001b[0;31m                               callbacks=callbacks)\n\u001b[0m\u001b[1;32m    701\u001b[0m \u001b[0;34m\u001b[0m\u001b[0m\n\u001b[1;32m    702\u001b[0m         \u001b[0mself\u001b[0m\u001b[0;34m.\u001b[0m\u001b[0mobjective\u001b[0m \u001b[0;34m=\u001b[0m \u001b[0mxgb_options\u001b[0m\u001b[0;34m[\u001b[0m\u001b[0;34m\"objective\"\u001b[0m\u001b[0;34m]\u001b[0m\u001b[0;34m\u001b[0m\u001b[0;34m\u001b[0m\u001b[0m\n",
      "\u001b[0;32m~/anaconda3/lib/python3.7/site-packages/xgboost/training.py\u001b[0m in \u001b[0;36mtrain\u001b[0;34m(params, dtrain, num_boost_round, evals, obj, feval, maximize, early_stopping_rounds, evals_result, verbose_eval, xgb_model, callbacks, learning_rates)\u001b[0m\n\u001b[1;32m    214\u001b[0m                            \u001b[0mevals\u001b[0m\u001b[0;34m=\u001b[0m\u001b[0mevals\u001b[0m\u001b[0;34m,\u001b[0m\u001b[0;34m\u001b[0m\u001b[0;34m\u001b[0m\u001b[0m\n\u001b[1;32m    215\u001b[0m                            \u001b[0mobj\u001b[0m\u001b[0;34m=\u001b[0m\u001b[0mobj\u001b[0m\u001b[0;34m,\u001b[0m \u001b[0mfeval\u001b[0m\u001b[0;34m=\u001b[0m\u001b[0mfeval\u001b[0m\u001b[0;34m,\u001b[0m\u001b[0;34m\u001b[0m\u001b[0;34m\u001b[0m\u001b[0m\n\u001b[0;32m--> 216\u001b[0;31m                            xgb_model=xgb_model, callbacks=callbacks)\n\u001b[0m\u001b[1;32m    217\u001b[0m \u001b[0;34m\u001b[0m\u001b[0m\n\u001b[1;32m    218\u001b[0m \u001b[0;34m\u001b[0m\u001b[0m\n",
      "\u001b[0;32m~/anaconda3/lib/python3.7/site-packages/xgboost/training.py\u001b[0m in \u001b[0;36m_train_internal\u001b[0;34m(params, dtrain, num_boost_round, evals, obj, feval, xgb_model, callbacks)\u001b[0m\n\u001b[1;32m     72\u001b[0m         \u001b[0;31m# Skip the first update if it is a recovery step.\u001b[0m\u001b[0;34m\u001b[0m\u001b[0;34m\u001b[0m\u001b[0;34m\u001b[0m\u001b[0m\n\u001b[1;32m     73\u001b[0m         \u001b[0;32mif\u001b[0m \u001b[0mversion\u001b[0m \u001b[0;34m%\u001b[0m \u001b[0;36m2\u001b[0m \u001b[0;34m==\u001b[0m \u001b[0;36m0\u001b[0m\u001b[0;34m:\u001b[0m\u001b[0;34m\u001b[0m\u001b[0;34m\u001b[0m\u001b[0m\n\u001b[0;32m---> 74\u001b[0;31m             \u001b[0mbst\u001b[0m\u001b[0;34m.\u001b[0m\u001b[0mupdate\u001b[0m\u001b[0;34m(\u001b[0m\u001b[0mdtrain\u001b[0m\u001b[0;34m,\u001b[0m \u001b[0mi\u001b[0m\u001b[0;34m,\u001b[0m \u001b[0mobj\u001b[0m\u001b[0;34m)\u001b[0m\u001b[0;34m\u001b[0m\u001b[0;34m\u001b[0m\u001b[0m\n\u001b[0m\u001b[1;32m     75\u001b[0m             \u001b[0mbst\u001b[0m\u001b[0;34m.\u001b[0m\u001b[0msave_rabit_checkpoint\u001b[0m\u001b[0;34m(\u001b[0m\u001b[0;34m)\u001b[0m\u001b[0;34m\u001b[0m\u001b[0;34m\u001b[0m\u001b[0m\n\u001b[1;32m     76\u001b[0m             \u001b[0mversion\u001b[0m \u001b[0;34m+=\u001b[0m \u001b[0;36m1\u001b[0m\u001b[0;34m\u001b[0m\u001b[0;34m\u001b[0m\u001b[0m\n",
      "\u001b[0;32m~/anaconda3/lib/python3.7/site-packages/xgboost/core.py\u001b[0m in \u001b[0;36mupdate\u001b[0;34m(self, dtrain, iteration, fobj)\u001b[0m\n\u001b[1;32m   1043\u001b[0m         \u001b[0;32mif\u001b[0m \u001b[0mfobj\u001b[0m \u001b[0;32mis\u001b[0m \u001b[0;32mNone\u001b[0m\u001b[0;34m:\u001b[0m\u001b[0;34m\u001b[0m\u001b[0;34m\u001b[0m\u001b[0m\n\u001b[1;32m   1044\u001b[0m             _check_call(_LIB.XGBoosterUpdateOneIter(self.handle, ctypes.c_int(iteration),\n\u001b[0;32m-> 1045\u001b[0;31m                                                     dtrain.handle))\n\u001b[0m\u001b[1;32m   1046\u001b[0m         \u001b[0;32melse\u001b[0m\u001b[0;34m:\u001b[0m\u001b[0;34m\u001b[0m\u001b[0;34m\u001b[0m\u001b[0m\n\u001b[1;32m   1047\u001b[0m             \u001b[0mpred\u001b[0m \u001b[0;34m=\u001b[0m \u001b[0mself\u001b[0m\u001b[0;34m.\u001b[0m\u001b[0mpredict\u001b[0m\u001b[0;34m(\u001b[0m\u001b[0mdtrain\u001b[0m\u001b[0;34m)\u001b[0m\u001b[0;34m\u001b[0m\u001b[0;34m\u001b[0m\u001b[0m\n",
      "\u001b[0;31mKeyboardInterrupt\u001b[0m: "
     ]
    }
   ],
   "source": [
    "# for increasing number of seeds\n",
    "# no noticable difference\n",
    "boxplot_y = []\n",
    "boxplot_x = list(range(1,10))\n",
    "for seeds in boxplot_x:\n",
    "    scores = k_seed_testing(X=X_train_all, y=y_train_all, folds=10, seeds=seeds, params=params)\n",
    "    boxplot_y.append(scores['accuracy'])"
   ]
  },
  {
   "cell_type": "code",
   "execution_count": 147,
   "metadata": {},
   "outputs": [
    {
     "ename": "KeyError",
     "evalue": "1",
     "output_type": "error",
     "traceback": [
      "\u001b[0;31m---------------------------------------------------------------------------\u001b[0m",
      "\u001b[0;31mKeyError\u001b[0m                                  Traceback (most recent call last)",
      "\u001b[0;32m<ipython-input-147-2ded2251893d>\u001b[0m in \u001b[0;36m<module>\u001b[0;34m()\u001b[0m\n\u001b[0;32m----> 1\u001b[0;31m \u001b[0msns\u001b[0m\u001b[0;34m.\u001b[0m\u001b[0mboxplot\u001b[0m\u001b[0;34m(\u001b[0m\u001b[0my\u001b[0m\u001b[0;34m=\u001b[0m\u001b[0mboxplot_y\u001b[0m\u001b[0;34m,\u001b[0m \u001b[0mx\u001b[0m\u001b[0;34m=\u001b[0m\u001b[0mboxplot_x\u001b[0m\u001b[0;34m)\u001b[0m\u001b[0;34m\u001b[0m\u001b[0;34m\u001b[0m\u001b[0m\n\u001b[0m",
      "\u001b[0;32m~/anaconda3/lib/python3.7/site-packages/seaborn/categorical.py\u001b[0m in \u001b[0;36mboxplot\u001b[0;34m(x, y, hue, data, order, hue_order, orient, color, palette, saturation, width, dodge, fliersize, linewidth, whis, notch, ax, **kwargs)\u001b[0m\n\u001b[1;32m   2229\u001b[0m     plotter = _BoxPlotter(x, y, hue, data, order, hue_order,\n\u001b[1;32m   2230\u001b[0m                           \u001b[0morient\u001b[0m\u001b[0;34m,\u001b[0m \u001b[0mcolor\u001b[0m\u001b[0;34m,\u001b[0m \u001b[0mpalette\u001b[0m\u001b[0;34m,\u001b[0m \u001b[0msaturation\u001b[0m\u001b[0;34m,\u001b[0m\u001b[0;34m\u001b[0m\u001b[0;34m\u001b[0m\u001b[0m\n\u001b[0;32m-> 2231\u001b[0;31m                           width, dodge, fliersize, linewidth)\n\u001b[0m\u001b[1;32m   2232\u001b[0m \u001b[0;34m\u001b[0m\u001b[0m\n\u001b[1;32m   2233\u001b[0m     \u001b[0;32mif\u001b[0m \u001b[0max\u001b[0m \u001b[0;32mis\u001b[0m \u001b[0;32mNone\u001b[0m\u001b[0;34m:\u001b[0m\u001b[0;34m\u001b[0m\u001b[0;34m\u001b[0m\u001b[0m\n",
      "\u001b[0;32m~/anaconda3/lib/python3.7/site-packages/seaborn/categorical.py\u001b[0m in \u001b[0;36m__init__\u001b[0;34m(self, x, y, hue, data, order, hue_order, orient, color, palette, saturation, width, dodge, fliersize, linewidth)\u001b[0m\n\u001b[1;32m    444\u001b[0m                  width, dodge, fliersize, linewidth):\n\u001b[1;32m    445\u001b[0m \u001b[0;34m\u001b[0m\u001b[0m\n\u001b[0;32m--> 446\u001b[0;31m         \u001b[0mself\u001b[0m\u001b[0;34m.\u001b[0m\u001b[0mestablish_variables\u001b[0m\u001b[0;34m(\u001b[0m\u001b[0mx\u001b[0m\u001b[0;34m,\u001b[0m \u001b[0my\u001b[0m\u001b[0;34m,\u001b[0m \u001b[0mhue\u001b[0m\u001b[0;34m,\u001b[0m \u001b[0mdata\u001b[0m\u001b[0;34m,\u001b[0m \u001b[0morient\u001b[0m\u001b[0;34m,\u001b[0m \u001b[0morder\u001b[0m\u001b[0;34m,\u001b[0m \u001b[0mhue_order\u001b[0m\u001b[0;34m)\u001b[0m\u001b[0;34m\u001b[0m\u001b[0;34m\u001b[0m\u001b[0m\n\u001b[0m\u001b[1;32m    447\u001b[0m         \u001b[0mself\u001b[0m\u001b[0;34m.\u001b[0m\u001b[0mestablish_colors\u001b[0m\u001b[0;34m(\u001b[0m\u001b[0mcolor\u001b[0m\u001b[0;34m,\u001b[0m \u001b[0mpalette\u001b[0m\u001b[0;34m,\u001b[0m \u001b[0msaturation\u001b[0m\u001b[0;34m)\u001b[0m\u001b[0;34m\u001b[0m\u001b[0;34m\u001b[0m\u001b[0m\n\u001b[1;32m    448\u001b[0m \u001b[0;34m\u001b[0m\u001b[0m\n",
      "\u001b[0;32m~/anaconda3/lib/python3.7/site-packages/seaborn/categorical.py\u001b[0m in \u001b[0;36mestablish_variables\u001b[0;34m(self, x, y, hue, data, orient, order, hue_order, units)\u001b[0m\n\u001b[1;32m    205\u001b[0m                 \u001b[0;31m# Group the numeric data\u001b[0m\u001b[0;34m\u001b[0m\u001b[0;34m\u001b[0m\u001b[0;34m\u001b[0m\u001b[0m\n\u001b[1;32m    206\u001b[0m                 plot_data, value_label = self._group_longform(vals, groups,\n\u001b[0;32m--> 207\u001b[0;31m                                                               group_names)\n\u001b[0m\u001b[1;32m    208\u001b[0m \u001b[0;34m\u001b[0m\u001b[0m\n\u001b[1;32m    209\u001b[0m                 \u001b[0;31m# Now handle the hue levels for nested ordering\u001b[0m\u001b[0;34m\u001b[0m\u001b[0;34m\u001b[0m\u001b[0;34m\u001b[0m\u001b[0m\n",
      "\u001b[0;32m~/anaconda3/lib/python3.7/site-packages/seaborn/categorical.py\u001b[0m in \u001b[0;36m_group_longform\u001b[0;34m(self, vals, grouper, order)\u001b[0m\n\u001b[1;32m    247\u001b[0m \u001b[0;34m\u001b[0m\u001b[0m\n\u001b[1;32m    248\u001b[0m         \u001b[0;31m# Group the val data\u001b[0m\u001b[0;34m\u001b[0m\u001b[0;34m\u001b[0m\u001b[0;34m\u001b[0m\u001b[0m\n\u001b[0;32m--> 249\u001b[0;31m         \u001b[0mgrouped_vals\u001b[0m \u001b[0;34m=\u001b[0m \u001b[0mvals\u001b[0m\u001b[0;34m.\u001b[0m\u001b[0mgroupby\u001b[0m\u001b[0;34m(\u001b[0m\u001b[0mgrouper\u001b[0m\u001b[0;34m)\u001b[0m\u001b[0;34m\u001b[0m\u001b[0;34m\u001b[0m\u001b[0m\n\u001b[0m\u001b[1;32m    250\u001b[0m         \u001b[0mout_data\u001b[0m \u001b[0;34m=\u001b[0m \u001b[0;34m[\u001b[0m\u001b[0;34m]\u001b[0m\u001b[0;34m\u001b[0m\u001b[0;34m\u001b[0m\u001b[0m\n\u001b[1;32m    251\u001b[0m         \u001b[0;32mfor\u001b[0m \u001b[0mg\u001b[0m \u001b[0;32min\u001b[0m \u001b[0morder\u001b[0m\u001b[0;34m:\u001b[0m\u001b[0;34m\u001b[0m\u001b[0;34m\u001b[0m\u001b[0m\n",
      "\u001b[0;32m~/anaconda3/lib/python3.7/site-packages/pandas/core/generic.py\u001b[0m in \u001b[0;36mgroupby\u001b[0;34m(self, by, axis, level, as_index, sort, group_keys, squeeze, observed, **kwargs)\u001b[0m\n\u001b[1;32m   6663\u001b[0m         return groupby(self, by=by, axis=axis, level=level, as_index=as_index,\n\u001b[1;32m   6664\u001b[0m                        \u001b[0msort\u001b[0m\u001b[0;34m=\u001b[0m\u001b[0msort\u001b[0m\u001b[0;34m,\u001b[0m \u001b[0mgroup_keys\u001b[0m\u001b[0;34m=\u001b[0m\u001b[0mgroup_keys\u001b[0m\u001b[0;34m,\u001b[0m \u001b[0msqueeze\u001b[0m\u001b[0;34m=\u001b[0m\u001b[0msqueeze\u001b[0m\u001b[0;34m,\u001b[0m\u001b[0;34m\u001b[0m\u001b[0;34m\u001b[0m\u001b[0m\n\u001b[0;32m-> 6665\u001b[0;31m                        observed=observed, **kwargs)\n\u001b[0m\u001b[1;32m   6666\u001b[0m \u001b[0;34m\u001b[0m\u001b[0m\n\u001b[1;32m   6667\u001b[0m     def asfreq(self, freq, method=None, how=None, normalize=False,\n",
      "\u001b[0;32m~/anaconda3/lib/python3.7/site-packages/pandas/core/groupby/groupby.py\u001b[0m in \u001b[0;36mgroupby\u001b[0;34m(obj, by, **kwds)\u001b[0m\n\u001b[1;32m   2150\u001b[0m         \u001b[0;32mraise\u001b[0m \u001b[0mTypeError\u001b[0m\u001b[0;34m(\u001b[0m\u001b[0;34m'invalid type: %s'\u001b[0m \u001b[0;34m%\u001b[0m \u001b[0mtype\u001b[0m\u001b[0;34m(\u001b[0m\u001b[0mobj\u001b[0m\u001b[0;34m)\u001b[0m\u001b[0;34m)\u001b[0m\u001b[0;34m\u001b[0m\u001b[0;34m\u001b[0m\u001b[0m\n\u001b[1;32m   2151\u001b[0m \u001b[0;34m\u001b[0m\u001b[0m\n\u001b[0;32m-> 2152\u001b[0;31m     \u001b[0;32mreturn\u001b[0m \u001b[0mklass\u001b[0m\u001b[0;34m(\u001b[0m\u001b[0mobj\u001b[0m\u001b[0;34m,\u001b[0m \u001b[0mby\u001b[0m\u001b[0;34m,\u001b[0m \u001b[0;34m**\u001b[0m\u001b[0mkwds\u001b[0m\u001b[0;34m)\u001b[0m\u001b[0;34m\u001b[0m\u001b[0;34m\u001b[0m\u001b[0m\n\u001b[0m\u001b[1;32m   2153\u001b[0m \u001b[0;34m\u001b[0m\u001b[0m\n\u001b[1;32m   2154\u001b[0m \u001b[0;34m\u001b[0m\u001b[0m\n",
      "\u001b[0;32m~/anaconda3/lib/python3.7/site-packages/pandas/core/groupby/groupby.py\u001b[0m in \u001b[0;36m__init__\u001b[0;34m(self, obj, keys, axis, level, grouper, exclusions, selection, as_index, sort, group_keys, squeeze, observed, **kwargs)\u001b[0m\n\u001b[1;32m    597\u001b[0m                                                     \u001b[0msort\u001b[0m\u001b[0;34m=\u001b[0m\u001b[0msort\u001b[0m\u001b[0;34m,\u001b[0m\u001b[0;34m\u001b[0m\u001b[0;34m\u001b[0m\u001b[0m\n\u001b[1;32m    598\u001b[0m                                                     \u001b[0mobserved\u001b[0m\u001b[0;34m=\u001b[0m\u001b[0mobserved\u001b[0m\u001b[0;34m,\u001b[0m\u001b[0;34m\u001b[0m\u001b[0;34m\u001b[0m\u001b[0m\n\u001b[0;32m--> 599\u001b[0;31m                                                     mutated=self.mutated)\n\u001b[0m\u001b[1;32m    600\u001b[0m \u001b[0;34m\u001b[0m\u001b[0m\n\u001b[1;32m    601\u001b[0m         \u001b[0mself\u001b[0m\u001b[0;34m.\u001b[0m\u001b[0mobj\u001b[0m \u001b[0;34m=\u001b[0m \u001b[0mobj\u001b[0m\u001b[0;34m\u001b[0m\u001b[0;34m\u001b[0m\u001b[0m\n",
      "\u001b[0;32m~/anaconda3/lib/python3.7/site-packages/pandas/core/groupby/groupby.py\u001b[0m in \u001b[0;36m_get_grouper\u001b[0;34m(obj, key, axis, level, sort, observed, mutated, validate)\u001b[0m\n\u001b[1;32m   3289\u001b[0m                 \u001b[0min_axis\u001b[0m\u001b[0;34m,\u001b[0m \u001b[0mname\u001b[0m\u001b[0;34m,\u001b[0m \u001b[0mlevel\u001b[0m\u001b[0;34m,\u001b[0m \u001b[0mgpr\u001b[0m \u001b[0;34m=\u001b[0m \u001b[0;32mFalse\u001b[0m\u001b[0;34m,\u001b[0m \u001b[0;32mNone\u001b[0m\u001b[0;34m,\u001b[0m \u001b[0mgpr\u001b[0m\u001b[0;34m,\u001b[0m \u001b[0;32mNone\u001b[0m\u001b[0;34m\u001b[0m\u001b[0;34m\u001b[0m\u001b[0m\n\u001b[1;32m   3290\u001b[0m             \u001b[0;32melse\u001b[0m\u001b[0;34m:\u001b[0m\u001b[0;34m\u001b[0m\u001b[0;34m\u001b[0m\u001b[0m\n\u001b[0;32m-> 3291\u001b[0;31m                 \u001b[0;32mraise\u001b[0m \u001b[0mKeyError\u001b[0m\u001b[0;34m(\u001b[0m\u001b[0mgpr\u001b[0m\u001b[0;34m)\u001b[0m\u001b[0;34m\u001b[0m\u001b[0;34m\u001b[0m\u001b[0m\n\u001b[0m\u001b[1;32m   3292\u001b[0m         \u001b[0;32melif\u001b[0m \u001b[0misinstance\u001b[0m\u001b[0;34m(\u001b[0m\u001b[0mgpr\u001b[0m\u001b[0;34m,\u001b[0m \u001b[0mGrouper\u001b[0m\u001b[0;34m)\u001b[0m \u001b[0;32mand\u001b[0m \u001b[0mgpr\u001b[0m\u001b[0;34m.\u001b[0m\u001b[0mkey\u001b[0m \u001b[0;32mis\u001b[0m \u001b[0;32mnot\u001b[0m \u001b[0;32mNone\u001b[0m\u001b[0;34m:\u001b[0m\u001b[0;34m\u001b[0m\u001b[0;34m\u001b[0m\u001b[0m\n\u001b[1;32m   3293\u001b[0m             \u001b[0;31m# Add key to exclusions\u001b[0m\u001b[0;34m\u001b[0m\u001b[0;34m\u001b[0m\u001b[0;34m\u001b[0m\u001b[0m\n",
      "\u001b[0;31mKeyError\u001b[0m: 1"
     ]
    }
   ],
   "source": [
    "sns.boxplot(y=boxplot_y, x=boxplot_x)"
   ]
  },
  {
   "cell_type": "markdown",
   "metadata": {},
   "source": [
    "# Run model on test data"
   ]
  },
  {
   "cell_type": "code",
   "execution_count": 23,
   "metadata": {},
   "outputs": [
    {
     "name": "stdout",
     "output_type": "stream",
     "text": [
      "[21:32:12] Tree method is selected to be 'hist', which uses a single updater grow_fast_histmaker.\n"
     ]
    }
   ],
   "source": [
    "clf = xgb.XGBClassifier(**params)\n",
    "clf.fit(X_train_all, y_train_all)\n",
    "proba = clf.predict_proba(X_test_all)\n",
    "total_count = y_train_all.shape[0]\n",
    "defaults = {k:v/total_count for k,v in Counter(y_train_all).items()}\n",
    "prediction = weighted_prediction(proba, defaults)"
   ]
  },
  {
   "cell_type": "markdown",
   "metadata": {},
   "source": [
    "# Model Analysis"
   ]
  },
  {
   "cell_type": "markdown",
   "metadata": {},
   "source": [
    "### Feature Importance"
   ]
  },
  {
   "cell_type": "code",
   "execution_count": 24,
   "metadata": {},
   "outputs": [],
   "source": [
    "feature_importances = pd.DataFrame(clf.feature_importances_,\n",
    "                                   index = X_train_all.columns,\n",
    "                                   columns=['importance']).sort_values('importance', ascending=False)"
   ]
  },
  {
   "cell_type": "code",
   "execution_count": 25,
   "metadata": {},
   "outputs": [
    {
     "data": {
      "text/plain": [
       "<matplotlib.axes._subplots.AxesSubplot at 0x7fa0dc159630>"
      ]
     },
     "execution_count": 25,
     "metadata": {},
     "output_type": "execute_result"
    },
    {
     "data": {
      "image/png": "[encoded data removed]",
      "text/plain": [
       "<Figure size 432x288 with 1 Axes>"
      ]
     },
     "metadata": {
      "needs_background": "light"
     },
     "output_type": "display_data"
    }
   ],
   "source": [
    "# top 10 features\n",
    "feature_importances.iloc[:10,:][::-1].plot.barh()"
   ]
  },
  {
   "cell_type": "code",
   "execution_count": 26,
   "metadata": {},
   "outputs": [
    {
     "data": {
      "text/plain": [
       "<matplotlib.axes._subplots.AxesSubplot at 0x7fa0dc20fa20>"
      ]
     },
     "execution_count": 26,
     "metadata": {},
     "output_type": "execute_result"
    },
    {
     "data": {
      "image/png": "[encoded data removed]",
      "text/plain": [
       "<Figure size 432x288 with 1 Axes>"
      ]
     },
     "metadata": {
      "needs_background": "light"
     },
     "output_type": "display_data"
    }
   ],
   "source": [
    "# distribution of feature importance\n",
    "feature_importances.plot()"
   ]
  },
  {
   "cell_type": "code",
   "execution_count": 27,
   "metadata": {},
   "outputs": [
    {
     "data": {
      "text/plain": [
       "<matplotlib.axes._subplots.AxesSubplot at 0x7fa0dc13d908>"
      ]
     },
     "execution_count": 27,
     "metadata": {},
     "output_type": "execute_result"
    },
    {
     "data": {
      "image/png": "[encoded data removed]",
      "text/plain": [
       "<Figure size 432x288 with 1 Axes>"
      ]
     },
     "metadata": {
      "needs_background": "light"
     },
     "output_type": "display_data"
    }
   ],
   "source": [
    "# bottom 10 least important features\n",
    "feature_importances[feature_importances['importance'] > 0].iloc[-10:,:][::-1].plot.barh()"
   ]
  },
  {
   "cell_type": "code",
   "execution_count": 28,
   "metadata": {},
   "outputs": [
    {
     "data": {
      "text/plain": [
       "61"
      ]
     },
     "execution_count": 28,
     "metadata": {},
     "output_type": "execute_result"
    }
   ],
   "source": [
    "# count of non-importance features\n",
    "not_important = feature_importances[feature_importances['importance'] == 0]\n",
    "len(not_important)"
   ]
  },
  {
   "cell_type": "code",
   "execution_count": 29,
   "metadata": {
    "scrolled": true
   },
   "outputs": [
    {
     "data": {
      "text/plain": [
       "Index(['Shiba', 'Mixed', 'Havanese', 'West', 'Norwegian', 'Cavalier',\n",
       "       'Standard', 'Russell', 'Rex', 'Lakeland', 'Malamute', 'Blue', 'Whippet',\n",
       "       'Akita', 'Fila', 'Shorthaired', 'Italian', 'Great', 'Cattle',\n",
       "       'Pyrenees', 'Sheep', 'Ocicat', 'King', 'Alaskan', 'Charles',\n",
       "       'Ridgeback', 'Greyhound', 'Afghan', 'Bernard', 'Foo', 'Sheltie',\n",
       "       'Mountain', 'Himalayan', 'Pixie-Bob', 'Irish', 'Laekenois',\n",
       "       'Ragamuffin', 'Eskimo', 'Devon', 'Munchkin', 'Tibetan', 'Chinese',\n",
       "       'Coon', 'Old', 'Saint', 'Patterdale', 'Applehead', 'Heeler', 'DogBlue',\n",
       "       'Cymric', 'Shar', 'Shetland', 'Cairn', 'Egyptian', 'Fell', 'Highland',\n",
       "       'Brasileiro', 'Chausie', 'Tzu', 'Chinchilla', 'State_41415'],\n",
       "      dtype='object')"
      ]
     },
     "execution_count": 29,
     "metadata": {},
     "output_type": "execute_result"
    }
   ],
   "source": [
    "not_important.index"
   ]
  },
  {
   "cell_type": "code",
   "execution_count": 30,
   "metadata": {},
   "outputs": [],
   "source": [
    "# X_train_all = X_train_all.drop(columns=list(not_important.index))\n",
    "# X_test_all = X_test_all.drop(columns=list(not_important.index))"
   ]
  },
  {
   "cell_type": "markdown",
   "metadata": {},
   "source": [
    "# Final run on test model and submission"
   ]
  },
  {
   "cell_type": "code",
   "execution_count": 151,
   "metadata": {},
   "outputs": [
    {
     "name": "stdout",
     "output_type": "stream",
     "text": [
      "[22:07:15] Tree method is selected to be 'hist', which uses a single updater grow_fast_histmaker.\n"
     ]
    }
   ],
   "source": [
    "random_lst = []\n",
    "for mult in range(1,10):\n",
    "    params['random_state'] = rnd * mult\n",
    "    clf = xgb.XGBClassifier(**params)\n",
    "    clf.fit(X_train_all, y_train_all)\n",
    "    proba = clf.predict_proba(X_test_all)\n",
    "    total_count = y_train_all.shape[0]\n",
    "    defaults = {k:v/total_count for k,v in Counter(y_train_all).items()}\n",
    "    prediction = np.array(weighted_prediction(proba, defaults))\n",
    "    random_lst.append(prediction)\n",
    "prediction = stats.mode(random_lst)[0][0]\n"
   ]
  },
  {
   "cell_type": "code",
   "execution_count": 32,
   "metadata": {
    "scrolled": true
   },
   "outputs": [],
   "source": [
    "submission = pd.DataFrame({'AdoptionSpeed': prediction.astype(int)}, index=X_test_all.index)\n",
    "submission.to_csv(\"submission.csv\", index=True, index_label='PetID', header=['AdoptionSpeed'])"
   ]
  },
  {
   "cell_type": "code",
   "execution_count": null,
   "metadata": {},
   "outputs": [],
   "source": []
  }
 ],
 "metadata": {
  "kernelspec": {
   "display_name": "Python 3",
   "language": "python",
   "name": "python3"
  },
  "language_info": {
   "codemirror_mode": {
    "name": "ipython",
    "version": 3
   },
   "file_extension": ".py",
   "mimetype": "text/x-python",
   "name": "python",
   "nbconvert_exporter": "python",
   "pygments_lexer": "ipython3",
   "version": "3.7.2"
  }
 },
 "nbformat": 4,
 "nbformat_minor": 1
}
