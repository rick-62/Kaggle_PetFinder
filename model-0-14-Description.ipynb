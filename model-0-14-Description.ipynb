{
 "cells": [
  {
   "cell_type": "markdown",
   "metadata": {},
   "source": [
    "# Model 0.14 - Further Description Features\n",
    "- English Description Flag\n",
    "- Tried language flags but made errors for small amounts of text\n",
    "- Website flag based on whether included a few keywords e.g. \"www.\"\n",
    "- Slight drop in LB"
   ]
  },
  {
   "cell_type": "code",
   "execution_count": 1,
   "metadata": {
    "_cell_guid": "b1076dfc-b9ad-4769-8c92-a6c4dae69d19",
    "_uuid": "8f2839f25d086af736a60e9eeb907d3b93b6e0e5"
   },
   "outputs": [
    {
     "name": "stderr",
     "output_type": "stream",
     "text": [
      "/home/rich/anaconda3/lib/python3.7/site-packages/sklearn/ensemble/weight_boosting.py:29: DeprecationWarning: numpy.core.umath_tests is an internal NumPy module and should not be imported. It will be removed in a future NumPy release.\n",
      "  from numpy.core.umath_tests import inner1d\n"
     ]
    }
   ],
   "source": [
    "import re\n",
    "import itertools\n",
    "import ml_metrics\n",
    "import string\n",
    "import nltk\n",
    "import scipy\n",
    "import numpy as np\n",
    "import pandas as pd\n",
    "import xgboost as xgb\n",
    "import seaborn as sns\n",
    "import matplotlib.pyplot as plt\n",
    "from collections import Counter, defaultdict\n",
    "from functools import lru_cache\n",
    "from scipy.sparse import hstack\n",
    "# from scipy.ndimage.filters import gaussian_filter1d as gaussian\n",
    "from sklearn import preprocessing\n",
    "from sklearn.ensemble import RandomForestClassifier\n",
    "from sklearn.model_selection import train_test_split, KFold\n",
    "from sklearn.metrics import confusion_matrix, \\\n",
    "                            accuracy_score, \\\n",
    "                            precision_score, \\\n",
    "                            precision_recall_curve, \\\n",
    "                            log_loss, \\\n",
    "                            roc_auc_score, \\\n",
    "                            roc_curve\n",
    "from nltk import wordpunct_tokenize\n",
    "from nltk.corpus import stopwords\n",
    "from sklearn.feature_extraction.text import TfidfVectorizer\n",
    "from nltk.stem.porter import PorterStemmer"
   ]
  },
  {
   "cell_type": "code",
   "execution_count": 2,
   "metadata": {},
   "outputs": [],
   "source": [
    "# hides warnings - think it needs running after modules imported\n",
    "import warnings\n",
    "warnings.simplefilter(\"ignore\")"
   ]
  },
  {
   "cell_type": "code",
   "execution_count": 3,
   "metadata": {},
   "outputs": [],
   "source": [
    "rnd = 42  # random state for scoring consistency"
   ]
  },
  {
   "cell_type": "markdown",
   "metadata": {},
   "source": [
    "## Importing the data"
   ]
  },
  {
   "cell_type": "code",
   "execution_count": 4,
   "metadata": {
    "_cell_guid": "79c7e3d0-c299-4dcb-8224-4455121ee9b0",
    "_uuid": "d629ff2d2480ee46fbb7e2d37f6b5fab8052498a"
   },
   "outputs": [],
   "source": [
    "df_train = pd.read_csv(\"../input/train/train.csv\", index_col=\"PetID\")\n",
    "df_test = pd.read_csv(\"../input/test/test.csv\", index_col=\"PetID\")\n",
    "df_breeds = pd.read_csv(\"../input/breed_labels.csv\", index_col=\"BreedID\")\n",
    "df_colors = pd.read_csv(\"../input/color_labels.csv\")"
   ]
  },
  {
   "cell_type": "code",
   "execution_count": 5,
   "metadata": {
    "scrolled": true
   },
   "outputs": [],
   "source": [
    "colors = df_colors['ColorID']\n",
    "breeds = df_breeds.index"
   ]
  },
  {
   "cell_type": "markdown",
   "metadata": {},
   "source": [
    "## Functions"
   ]
  },
  {
   "cell_type": "markdown",
   "metadata": {},
   "source": [
    "### Functions: Feature Engineering"
   ]
  },
  {
   "cell_type": "code",
   "execution_count": 6,
   "metadata": {
    "_uuid": "3076eefcc83e005977b9159c9d39459e5d08e27a"
   },
   "outputs": [],
   "source": [
    "def apply_word_flags(df, words, drop=True):\n",
    "    \"\"\"Creates binary columns for words which appear in the description\"\"\"\n",
    "    for word in words:\n",
    "        df[word] = 0\n",
    "    for i, desc in df['Description'].items():\n",
    "        try:\n",
    "            for word in desc.split():\n",
    "                word = word.lower()\n",
    "                if word in words:\n",
    "                    df.at[i,word] = 1\n",
    "        except AttributeError:\n",
    "            continue\n",
    "    return df.drop(columns=['Description'] if drop else [])"
   ]
  },
  {
   "cell_type": "code",
   "execution_count": 7,
   "metadata": {},
   "outputs": [],
   "source": [
    "keywords = ['home', 'good' , 'adopt', 'loving', 'give', 'looking', 'playful', 'rescued', 'cat', 'contact']"
   ]
  },
  {
   "cell_type": "code",
   "execution_count": 8,
   "metadata": {},
   "outputs": [],
   "source": [
    "def apply_color_flags(df, colors):\n",
    "    \"\"\"Combines Colors 1,2 & 3 into binary columns for each possible colours\"\"\"\n",
    "    for c in colors:\n",
    "        df[f'C{c}'] = 0\n",
    "    for i,colors in df[['Color1', 'Color2', 'Color3']].iterrows():\n",
    "        for c in colors:\n",
    "            if c != 0:\n",
    "                df.at[i,f'C{c}'] = 1\n",
    "    df = df.drop(columns=['Color1', 'Color2', 'Color3'])\n",
    "    return df"
   ]
  },
  {
   "cell_type": "code",
   "execution_count": 9,
   "metadata": {},
   "outputs": [],
   "source": [
    "def create_breed_keywords(df):\n",
    "    \"\"\"Creates unique list of keywords from provided breeds dataframe\"\"\"\n",
    "    breed_keywords = []\n",
    "    for breed in df['BreedName']:\n",
    "        breed = re.sub(r'[/(/)]', '', breed)  # remove braces\n",
    "        keywords = breed.split()\n",
    "        breed_keywords += keywords\n",
    "    return set(breed_keywords)"
   ]
  },
  {
   "cell_type": "code",
   "execution_count": 10,
   "metadata": {},
   "outputs": [],
   "source": [
    "def apply_breed_flags(df, keywords, breeds):\n",
    "    \"\"\"Creates binary columns for keywords which appear in the breed name\"\"\"\n",
    "    for word in keywords:\n",
    "        df[word] = 0\n",
    "        \n",
    "    for i,pair in df[['Breed1', 'Breed2']].iterrows():\n",
    "        for indx in pair:\n",
    "            if indx == 0: continue\n",
    "            breed = breeds.loc[indx,'BreedName']\n",
    "            breed = re.sub(r'[/(/)]', '', breed)\n",
    "            new_keywords = breed.split()\n",
    "            for word in new_keywords:\n",
    "                if word in keywords: \n",
    "                    df.at[i,word] = 1\n",
    "                    \n",
    "    return df"
   ]
  },
  {
   "cell_type": "markdown",
   "metadata": {},
   "source": [
    "### Functions: Scoring "
   ]
  },
  {
   "cell_type": "code",
   "execution_count": 11,
   "metadata": {},
   "outputs": [],
   "source": [
    "# Kappa weighted prediction, also taking into account natural distribution of training truth values\n",
    "@lru_cache(maxsize=128)\n",
    "def quad_weights(i, n=5):\n",
    "    return 1-(i**2 / (n-1)**2)\n",
    "\n",
    "def weighted_prediction(proba, defaults):\n",
    "    prediction = []\n",
    "    for row in proba:\n",
    "        row = [p-defaults[i] if p-defaults[i] > 0 else 0 for i,p in enumerate(row)]\n",
    "        k_lst = []\n",
    "        for i in range(len(row)):\n",
    "            k_score = sum([p * quad_weights(abs(i-j)) for j, p in enumerate(row)])\n",
    "            k_lst.append(k_score)\n",
    "        prediction.append(np.argmax(k_lst))\n",
    "    return prediction           "
   ]
  },
  {
   "cell_type": "markdown",
   "metadata": {},
   "source": [
    "### Functions: Analyse Model "
   ]
  },
  {
   "cell_type": "code",
   "execution_count": 12,
   "metadata": {},
   "outputs": [],
   "source": [
    "# function from sklearn website example code\n",
    "def plot_confusion_matrix(cm, classes,\n",
    "                          normalize=False,\n",
    "                          title='Confusion matrix',\n",
    "                          cmap=plt.cm.Blues):\n",
    "    \"\"\"\n",
    "    This function prints and plots the confusion matrix.\n",
    "    Normalization can be applied by setting `normalize=True`.\n",
    "    \"\"\"\n",
    "    if normalize:\n",
    "        cm = cm.astype('float') / cm.sum(axis=1)[:, np.newaxis]\n",
    "#         print(\"Normalized confusion matrix\")\n",
    "    else:\n",
    "        print('Confusion matrix, without normalization')\n",
    "\n",
    "#     print(cm)\n",
    "\n",
    "    plt.imshow(cm, interpolation='nearest', cmap=cmap)\n",
    "    plt.title(title)\n",
    "    plt.colorbar()\n",
    "    tick_marks = np.arange(len(classes))\n",
    "    plt.xticks(tick_marks, classes,)\n",
    "    plt.yticks(tick_marks, classes)\n",
    "\n",
    "    fmt = '.2f' if normalize else 'd'\n",
    "    thresh = cm.max() / 2.\n",
    "    for i, j in itertools.product(range(cm.shape[0]), range(cm.shape[1])):\n",
    "        plt.text(j, i, format(cm[i, j], fmt),\n",
    "                 horizontalalignment=\"center\",\n",
    "                 color=\"white\" if cm[i, j] > thresh else \"black\")\n",
    "\n",
    "    plt.ylabel('True label')\n",
    "    plt.xlabel('Predicted label')\n",
    "    plt.tight_layout()"
   ]
  },
  {
   "cell_type": "markdown",
   "metadata": {},
   "source": [
    "## Preparing data"
   ]
  },
  {
   "cell_type": "code",
   "execution_count": 13,
   "metadata": {},
   "outputs": [],
   "source": [
    "# Combine test and training data\n",
    "df_combined = pd.concat([df_test, df_train], sort=False)\n",
    "df_combined['test'] = df_combined['AdoptionSpeed'].isna()\n",
    "df_combined['Description'] = df_combined['Description'].fillna('')\n",
    "\n",
    "# Rescuer\n",
    "rescue_map = Counter(df_combined['RescuerID'])\n",
    "rescuer_counts = df_combined['RescuerID'].map(rescue_map)\n",
    "\n",
    "# Breeds\n",
    "all_test_breeds = df_test['Breed1'].append(df_test['Breed2'])\n",
    "df_test_breeds = df_breeds.loc[all_test_breeds[all_test_breeds > 0].unique(), :]\n",
    "breed_keywords = create_breed_keywords(df_test_breeds)\n",
    "\n",
    "# Prepare data for modelling \n",
    "df_combined['rescuer_counts'] = rescuer_counts\n",
    "df_combined['desc_length'] = df_combined['Description'].apply(len)\n",
    "df_combined['desc_word_count'] = df_combined['Description'].apply(lambda x: len(x.split()))\n",
    "\n",
    "df_combined = apply_word_flags(df_combined, keywords, drop=False)\n",
    "df_combined = apply_color_flags(df_combined, colors)\n",
    "df_combined = apply_breed_flags(df_combined, breed_keywords, df_breeds)\n",
    "df_combined = pd.get_dummies(df_combined, columns=['Gender',\n",
    "                                                   'Vaccinated', 'Dewormed', 'Sterilized', \n",
    "                                                   'State'])\n",
    "y_train_all = df_combined['AdoptionSpeed'][df_combined['test'] != 1]\n",
    "X_all       = df_combined.drop(columns=['Name', 'RescuerID', 'AdoptionSpeed', 'Breed1', 'Breed2'])\n",
    "X_train_all = X_all[X_all['test'] != 1].drop(columns=['test'])\n",
    "X_test_all  = X_all[X_all['test'] == 1].drop(columns=['test'])"
   ]
  },
  {
   "cell_type": "markdown",
   "metadata": {},
   "source": [
    "### Check Description English or not?"
   ]
  },
  {
   "cell_type": "code",
   "execution_count": 14,
   "metadata": {},
   "outputs": [],
   "source": [
    "# check for all languages - not enough words in text so not accurate\n",
    "def language_flag(text, english_flag=True):\n",
    "    language_ratios = {}\n",
    "    tokens = wordpunct_tokenize(text)\n",
    "    words = [word.lower() for word in tokens]\n",
    "    for language in stopwords.fileids():\n",
    "        common_elements = set(words) & set(stopwords.words(language))\n",
    "        language_ratios[language] = len(common_elements)\n",
    "    language = max(language_ratios, key=language_ratios.get)\n",
    "    if english_flag:\n",
    "        return language_ratios['english'] > 0\n",
    "    else:\n",
    "        return \"language_\" + language "
   ]
  },
  {
   "cell_type": "code",
   "execution_count": 15,
   "metadata": {},
   "outputs": [],
   "source": [
    "# check for specific language - defaults to english\n",
    "def language_flag(text, language='english'):\n",
    "    tokens = wordpunct_tokenize(text)\n",
    "    words = set([word.lower() for word in tokens])\n",
    "    keywords = set(stopwords.words(language))\n",
    "    common_words = words & keywords\n",
    "    return len(common_words) > 0"
   ]
  },
  {
   "cell_type": "code",
   "execution_count": 16,
   "metadata": {},
   "outputs": [],
   "source": [
    "X_train_all['english'] = X_train_all['Description'].apply(language_flag)"
   ]
  },
  {
   "cell_type": "code",
   "execution_count": 17,
   "metadata": {},
   "outputs": [],
   "source": [
    "X_test_all['english'] = X_test_all['Description'].apply(language_flag)"
   ]
  },
  {
   "cell_type": "markdown",
   "metadata": {},
   "source": [
    "### Contains a website?\n",
    "I'd expect those descriptions with a website to be a third party shelter, to help determine rescuer type"
   ]
  },
  {
   "cell_type": "code",
   "execution_count": 18,
   "metadata": {},
   "outputs": [],
   "source": [
    "def website_flag(text):\n",
    "    keywords = ['www.', '.org', '.my', '.com']\n",
    "    match = map(lambda x: text.find(x) >= 0, keywords)\n",
    "    return sum(match) > 0"
   ]
  },
  {
   "cell_type": "code",
   "execution_count": 19,
   "metadata": {},
   "outputs": [
    {
     "data": {
      "text/plain": [
       "Counter({False: 14896, True: 97})"
      ]
     },
     "execution_count": 19,
     "metadata": {},
     "output_type": "execute_result"
    }
   ],
   "source": [
    "X_train_all['website'] = X_train_all['Description'].apply(website_flag)\n",
    "Counter(X_train_all['website'])"
   ]
  },
  {
   "cell_type": "code",
   "execution_count": 20,
   "metadata": {},
   "outputs": [],
   "source": [
    "X_test_all['website'] = X_test_all['Description'].apply(website_flag)"
   ]
  },
  {
   "cell_type": "markdown",
   "metadata": {},
   "source": [
    "### Count Punctuation"
   ]
  },
  {
   "cell_type": "code",
   "execution_count": 21,
   "metadata": {},
   "outputs": [],
   "source": [
    "# def punc_flag(text):\n",
    "#     return text.count('.')"
   ]
  },
  {
   "cell_type": "code",
   "execution_count": 22,
   "metadata": {
    "scrolled": true
   },
   "outputs": [],
   "source": [
    "# X_train_all['punctuation'] = X_train_all['Description'].apply(punc_flag)\n",
    "# Counter(X_train_all['punctuation']).most_common(5)"
   ]
  },
  {
   "cell_type": "code",
   "execution_count": 23,
   "metadata": {},
   "outputs": [],
   "source": [
    "# remove description feature\n",
    "X_train_all = X_train_all.drop(columns=['Description'])\n",
    "X_test_all  = X_test_all.drop(columns=['Description'])"
   ]
  },
  {
   "cell_type": "markdown",
   "metadata": {},
   "source": [
    "## Test XGBoost model"
   ]
  },
  {
   "cell_type": "code",
   "execution_count": 24,
   "metadata": {},
   "outputs": [],
   "source": [
    "params = {'max_depth': 4, \n",
    "          'learning_rate': 0.2, \n",
    "          'n_estimators': 200, \n",
    "          'silent': True, \n",
    "          'objective': 'multi:softprob', \n",
    "          'booster': 'gbtree',\n",
    "          'tree_method': 'hist',\n",
    "          'n_jobs': 3,\n",
    "          'gamma': 0, \n",
    "          'min_child_weight': 1, \n",
    "          'max_delta_step': 0, \n",
    "          'subsample': 0.8, \n",
    "          'colsample_bytree': 1, \n",
    "          'colsample_bylevel': 1, \n",
    "          'reg_alpha': 0, \n",
    "          'reg_lambda': 1, \n",
    "          'scale_pos_weight': 1, \n",
    "          'base_score': 0.2, \n",
    "          'random_state': rnd, \n",
    "          'missing': None,\n",
    "          'verbose': 0,\n",
    "          'verbosity': 3,}"
   ]
  },
  {
   "cell_type": "code",
   "execution_count": 25,
   "metadata": {
    "scrolled": true
   },
   "outputs": [],
   "source": [
    "def cv_testing(X_train_all, params, folds=5, dataframe=True):\n",
    "\n",
    "    scores = defaultdict(list)\n",
    "\n",
    "    folds = KFold(folds, True, rnd).split(X_train_all)\n",
    "\n",
    "    for i, (train_indx, test_indx) in enumerate(folds, 1):\n",
    "        \n",
    "        print(f\"Fold {i}\")\n",
    "        \n",
    "        # flag dataframe determines whether to use iloc or \"normal\" masking for (sparse) arrays\n",
    "        if not dataframe:\n",
    "            X_train, X_test = X_train_all[train_indx], X_train_all[test_indx]\n",
    "            y_train, y_test = y_train_all[train_indx], y_train_all[test_indx]\n",
    "        else:\n",
    "            X_train, X_test = X_train_all.iloc[train_indx], X_train_all.iloc[test_indx]\n",
    "            y_train, y_test = y_train_all.iloc[train_indx], y_train_all.iloc[test_indx]\n",
    "\n",
    "\n",
    "        clf = xgb.XGBClassifier(**params)\n",
    "\n",
    "        clf.fit(X_train, y_train)\n",
    "\n",
    "#         prediction = clf.predict(X_test)\n",
    "        proba = clf.predict_proba(X_test)\n",
    "        \n",
    "        # alternative kappa weighted consideration\n",
    "        total_count = y_train.shape[0]\n",
    "        defaults = {k:v/total_count for k,v in Counter(y_train).items()}\n",
    "        prediction = weighted_prediction(proba, defaults)\n",
    "        \n",
    "\n",
    "        scores['kappa'].append(ml_metrics.quadratic_weighted_kappa(rater_a=y_test, rater_b=prediction))\n",
    "        scores['accuracy'].append(accuracy_score(y_test, prediction))\n",
    "        scores['confusion'].append(confusion_matrix(y_test, prediction))\n",
    "        scores['precision'].append(precision_score(y_test, prediction, average=None))        \n",
    "    \n",
    "    print()\n",
    "    \n",
    "    return scores"
   ]
  },
  {
   "cell_type": "code",
   "execution_count": 26,
   "metadata": {
    "scrolled": true
   },
   "outputs": [
    {
     "name": "stdout",
     "output_type": "stream",
     "text": [
      "Fold 1\n",
      "[15:47:08] Tree method is selected to be 'hist', which uses a single updater grow_fast_histmaker.\n",
      "Fold 2\n",
      "[15:47:17] Tree method is selected to be 'hist', which uses a single updater grow_fast_histmaker.\n",
      "Fold 3\n",
      "[15:47:26] Tree method is selected to be 'hist', which uses a single updater grow_fast_histmaker.\n",
      "Fold 4\n",
      "[15:47:35] Tree method is selected to be 'hist', which uses a single updater grow_fast_histmaker.\n",
      "Fold 5\n",
      "[15:47:45] Tree method is selected to be 'hist', which uses a single updater grow_fast_histmaker.\n",
      "Fold 6\n",
      "[15:47:54] Tree method is selected to be 'hist', which uses a single updater grow_fast_histmaker.\n",
      "Fold 7\n",
      "[15:48:02] Tree method is selected to be 'hist', which uses a single updater grow_fast_histmaker.\n",
      "Fold 8\n",
      "[15:48:10] Tree method is selected to be 'hist', which uses a single updater grow_fast_histmaker.\n",
      "Fold 9\n",
      "[15:48:19] Tree method is selected to be 'hist', which uses a single updater grow_fast_histmaker.\n",
      "Fold 10\n",
      "[15:48:28] Tree method is selected to be 'hist', which uses a single updater grow_fast_histmaker.\n",
      "\n"
     ]
    }
   ],
   "source": [
    "scores = cv_testing(X_train_all=X_train_all, folds=10, params=params, dataframe=True)"
   ]
  },
  {
   "cell_type": "code",
   "execution_count": 27,
   "metadata": {},
   "outputs": [
    {
     "data": {
      "image/png": "[encoded data removed]",
      "text/plain": [
       "<Figure size 432x288 with 2 Axes>"
      ]
     },
     "metadata": {
      "needs_background": "light"
     },
     "output_type": "display_data"
    }
   ],
   "source": [
    "# plot normalised (by row) confusion matrix\n",
    "cm = sum(scores['confusion'])  # sums element-wise\n",
    "plt.figure()\n",
    "plot_confusion_matrix(cm, classes=[0,1,2,3,4], normalize=True,\n",
    "                      title='Normalized confusion matrix')\n",
    "plt.show()"
   ]
  },
  {
   "cell_type": "code",
   "execution_count": 28,
   "metadata": {},
   "outputs": [
    {
     "data": {
      "text/plain": [
       "<BarContainer object of 5 artists>"
      ]
     },
     "execution_count": 28,
     "metadata": {},
     "output_type": "execute_result"
    },
    {
     "data": {
      "image/png": "[encoded data removed]",
      "text/plain": [
       "<Figure size 432x288 with 1 Axes>"
      ]
     },
     "metadata": {
      "needs_background": "light"
     },
     "output_type": "display_data"
    }
   ],
   "source": [
    "# plot average precision for each class\n",
    "plt.bar([0,1,2,3,4], sum(scores['precision']) / len(scores['precision']))"
   ]
  },
  {
   "cell_type": "code",
   "execution_count": 29,
   "metadata": {
    "scrolled": true
   },
   "outputs": [
    {
     "name": "stdout",
     "output_type": "stream",
     "text": [
      "kappa:    0.414\n",
      "accuracy: 0.426\n"
     ]
    }
   ],
   "source": [
    "# 0.413 --> 0.415 (English description flag)\n",
    "# 0.415 --> 0.411 (estimate language flag, with one hot encoding)\n",
    "# 0.415 --> 0.413 (website flag - contains \"www\")\n",
    "# 0.415 --> 0.416 (website flag - contains www. .org .my or .com)\n",
    "# 0.416 --> 0.411 (punctuation flag - both full stops and commas)\n",
    "# 0.416 --> 0.411 (punctuation flag - full stops)\n",
    "print(\"kappa:    {:.3}\".format(np.mean(scores['kappa'])))\n",
    "print(\"accuracy: {:.3}\".format(np.mean(scores['accuracy'])))"
   ]
  },
  {
   "cell_type": "markdown",
   "metadata": {},
   "source": [
    "# Run model on test data"
   ]
  },
  {
   "cell_type": "code",
   "execution_count": 30,
   "metadata": {},
   "outputs": [
    {
     "name": "stdout",
     "output_type": "stream",
     "text": [
      "[15:48:37] Tree method is selected to be 'hist', which uses a single updater grow_fast_histmaker.\n"
     ]
    }
   ],
   "source": [
    "clf = xgb.XGBClassifier(**params)\n",
    "clf.fit(X_train_all, y_train_all)\n",
    "proba = clf.predict_proba(X_test_all)\n",
    "total_count = y_train_all.shape[0]\n",
    "defaults = {k:v/total_count for k,v in Counter(y_train_all).items()}\n",
    "prediction = weighted_prediction(proba, defaults)"
   ]
  },
  {
   "cell_type": "markdown",
   "metadata": {},
   "source": [
    "# Model Analysis"
   ]
  },
  {
   "cell_type": "markdown",
   "metadata": {},
   "source": [
    "### Feature Importance"
   ]
  },
  {
   "cell_type": "code",
   "execution_count": 31,
   "metadata": {},
   "outputs": [],
   "source": [
    "feature_importances = pd.DataFrame(clf.feature_importances_,\n",
    "                                   index = X_train_all.columns,\n",
    "                                   columns=['importance']).sort_values('importance', ascending=False)"
   ]
  },
  {
   "cell_type": "code",
   "execution_count": 32,
   "metadata": {},
   "outputs": [
    {
     "data": {
      "text/plain": [
       "<matplotlib.axes._subplots.AxesSubplot at 0x7f05357c8da0>"
      ]
     },
     "execution_count": 32,
     "metadata": {},
     "output_type": "execute_result"
    },
    {
     "data": {
      "image/png": "[encoded data removed]",
      "text/plain": [
       "<Figure size 432x288 with 1 Axes>"
      ]
     },
     "metadata": {
      "needs_background": "light"
     },
     "output_type": "display_data"
    }
   ],
   "source": [
    "# top 10 features\n",
    "feature_importances.iloc[:10,:][::-1].plot.barh()"
   ]
  },
  {
   "cell_type": "code",
   "execution_count": 33,
   "metadata": {},
   "outputs": [
    {
     "data": {
      "text/plain": [
       "<matplotlib.axes._subplots.AxesSubplot at 0x7f053572c2b0>"
      ]
     },
     "execution_count": 33,
     "metadata": {},
     "output_type": "execute_result"
    },
    {
     "data": {
      "image/png": "[encoded data removed]",
      "text/plain": [
       "<Figure size 432x288 with 1 Axes>"
      ]
     },
     "metadata": {
      "needs_background": "light"
     },
     "output_type": "display_data"
    }
   ],
   "source": [
    "# distribution of feature importance\n",
    "feature_importances.plot()"
   ]
  },
  {
   "cell_type": "code",
   "execution_count": 34,
   "metadata": {},
   "outputs": [
    {
     "data": {
      "text/plain": [
       "<matplotlib.axes._subplots.AxesSubplot at 0x7f05356d3898>"
      ]
     },
     "execution_count": 34,
     "metadata": {},
     "output_type": "execute_result"
    },
    {
     "data": {
      "image/png": "[encoded data removed]",
      "text/plain": [
       "<Figure size 432x288 with 1 Axes>"
      ]
     },
     "metadata": {
      "needs_background": "light"
     },
     "output_type": "display_data"
    }
   ],
   "source": [
    "# bottom 10 least important features\n",
    "feature_importances[feature_importances['importance'] > 0].iloc[-10:,:][::-1].plot.barh()"
   ]
  },
  {
   "cell_type": "code",
   "execution_count": 35,
   "metadata": {},
   "outputs": [
    {
     "data": {
      "text/plain": [
       "62"
      ]
     },
     "execution_count": 35,
     "metadata": {},
     "output_type": "execute_result"
    }
   ],
   "source": [
    "# count of non-importance features\n",
    "not_important = feature_importances[feature_importances['importance'] == 0]\n",
    "len(not_important)"
   ]
  },
  {
   "cell_type": "code",
   "execution_count": 36,
   "metadata": {
    "scrolled": true
   },
   "outputs": [
    {
     "data": {
      "text/plain": [
       "Index(['Coon', 'Sheltie', 'Sheep', 'Ragamuffin', 'Old', 'Pyrenees', 'King',\n",
       "       'Devon', 'Tibetan', 'Chinese', 'Fila', 'Cairn', 'Italian', 'French',\n",
       "       'Shar', 'Ocicat', 'Fell', 'Eskimo', 'Shorthaired', 'Mixed', 'Parson',\n",
       "       'Patterdale', 'Havanese', 'Malamute', 'Cattle', 'Afghan', 'Great',\n",
       "       'Saint', 'State_41415', 'Lakeland', 'Akita', 'Westie', 'Cymric',\n",
       "       'Forest', 'Bernard', 'Inu', 'Greyhound', 'Standard', 'Foo', 'Rex',\n",
       "       'Laekenois', 'Shetland', 'Brasileiro', 'Ridgeback', 'Chausie', 'Mau',\n",
       "       'Highland', 'Whippet', 'Chinchilla', 'Heeler', 'Pixie-Bob', 'Russian',\n",
       "       'Munchkin', 'Alaskan', 'Irish', 'Tzu', 'Mountain', 'Cavalier',\n",
       "       'Charles', 'West', 'DogBlue', 'Jack'],\n",
       "      dtype='object')"
      ]
     },
     "execution_count": 36,
     "metadata": {},
     "output_type": "execute_result"
    }
   ],
   "source": [
    "not_important.index"
   ]
  },
  {
   "cell_type": "code",
   "execution_count": 37,
   "metadata": {},
   "outputs": [],
   "source": [
    "# X_train_all = X_train_all.drop(columns=list(not_important.index))\n",
    "# X_test_all = X_test_all.drop(columns=list(not_important.index))"
   ]
  },
  {
   "cell_type": "markdown",
   "metadata": {},
   "source": [
    "# Final run on test model and submission"
   ]
  },
  {
   "cell_type": "code",
   "execution_count": 38,
   "metadata": {},
   "outputs": [
    {
     "name": "stdout",
     "output_type": "stream",
     "text": [
      "[15:48:48] Tree method is selected to be 'hist', which uses a single updater grow_fast_histmaker.\n"
     ]
    }
   ],
   "source": [
    "clf = xgb.XGBClassifier(**params)\n",
    "clf.fit(X_train_all, y_train_all)\n",
    "proba = clf.predict_proba(X_test_all)\n",
    "total_count = y_train_all.shape[0]\n",
    "defaults = {k:v/total_count for k,v in Counter(y_train_all).items()}\n",
    "prediction = np.array(weighted_prediction(proba, defaults))"
   ]
  },
  {
   "cell_type": "code",
   "execution_count": 39,
   "metadata": {
    "scrolled": true
   },
   "outputs": [],
   "source": [
    "submission = pd.DataFrame({'AdoptionSpeed': prediction.astype(int)}, index=X_test_all.index)\n",
    "submission.to_csv(\"submission.csv\", index=True, index_label='PetID', header=['AdoptionSpeed'])"
   ]
  },
  {
   "cell_type": "code",
   "execution_count": null,
   "metadata": {},
   "outputs": [],
   "source": []
  }
 ],
 "metadata": {
  "kernelspec": {
   "display_name": "Python 3",
   "language": "python",
   "name": "python3"
  },
  "language_info": {
   "codemirror_mode": {
    "name": "ipython",
    "version": 3
   },
   "file_extension": ".py",
   "mimetype": "text/x-python",
   "name": "python",
   "nbconvert_exporter": "python",
   "pygments_lexer": "ipython3",
   "version": "3.7.2"
  }
 },
 "nbformat": 4,
 "nbformat_minor": 1
}
