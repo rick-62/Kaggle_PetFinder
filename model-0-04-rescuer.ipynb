{
 "cells": [
  {
   "cell_type": "markdown",
   "metadata": {},
   "source": [
    "# Model 0.04 - Rescuer\n",
    " - analyse count of rescuer and compare training and test data\n",
    " - training and test data do not share any rescuers (will final test data?)\n",
    " - Due to no shared rescuers, decision to use counts (not normalised)\n",
    " - significant score improvement (0.354 --> 0.381)"
   ]
  },
  {
   "cell_type": "code",
   "execution_count": 124,
   "metadata": {
    "_cell_guid": "b1076dfc-b9ad-4769-8c92-a6c4dae69d19",
    "_uuid": "8f2839f25d086af736a60e9eeb907d3b93b6e0e5"
   },
   "outputs": [],
   "source": [
    "import ml_metrics\n",
    "import numpy as np\n",
    "import pandas as pd\n",
    "import matplotlib.pyplot as plt\n",
    "import seaborn as sns\n",
    "from collections import Counter\n",
    "from sklearn import preprocessing\n",
    "from sklearn.ensemble import RandomForestClassifier\n",
    "from sklearn.model_selection import train_test_split\n",
    "from sklearn.model_selection import KFold"
   ]
  },
  {
   "cell_type": "code",
   "execution_count": 2,
   "metadata": {},
   "outputs": [],
   "source": [
    "rnd = 42  # random state for scoring consistency"
   ]
  },
  {
   "cell_type": "markdown",
   "metadata": {},
   "source": [
    "## Importing the data"
   ]
  },
  {
   "cell_type": "code",
   "execution_count": 3,
   "metadata": {
    "_cell_guid": "79c7e3d0-c299-4dcb-8224-4455121ee9b0",
    "_uuid": "d629ff2d2480ee46fbb7e2d37f6b5fab8052498a"
   },
   "outputs": [],
   "source": [
    "df_train = pd.read_csv(\"../input/train/train.csv\", index_col=\"PetID\")\n",
    "df_test = pd.read_csv(\"../input/test/test.csv\", index_col=\"PetID\")\n",
    "df_breeds = pd.read_csv(\"../input/breed_labels.csv\")\n",
    "df_colors = pd.read_csv(\"../input/color_labels.csv\")"
   ]
  },
  {
   "cell_type": "code",
   "execution_count": 4,
   "metadata": {
    "scrolled": true
   },
   "outputs": [],
   "source": [
    "colors = df_colors['ColorID']\n",
    "breeds = df_breeds['BreedID']"
   ]
  },
  {
   "cell_type": "markdown",
   "metadata": {},
   "source": [
    "## Analysing RescuerID"
   ]
  },
  {
   "cell_type": "code",
   "execution_count": 19,
   "metadata": {},
   "outputs": [
    {
     "data": {
      "text/plain": [
       "5595"
      ]
     },
     "execution_count": 19,
     "metadata": {},
     "output_type": "execute_result"
    }
   ],
   "source": [
    "# count of distinct rescuers\n",
    "len(df_train['RescuerID'].unique())"
   ]
  },
  {
   "cell_type": "code",
   "execution_count": 61,
   "metadata": {},
   "outputs": [
    {
     "data": {
      "text/plain": [
       "[('fa90fa5b1ee11c86938398b60abc32cb', 459),\n",
       " ('aa66486163b6cbc25ea62a34b11c9b91', 315),\n",
       " ('c00756f2bdd8fa88fc9f07a8309f7d5d', 231),\n",
       " ('b53c34474d9e24574bcec6a3d3306a0d', 228),\n",
       " ('ee2747ce26468ec44c7194e7d1d9dad9', 156),\n",
       " ('95481e953f8aed9ec3d16fc4509537e8', 134),\n",
       " ('b770bac0ca797cf1433c48a35d30c4cb', 111),\n",
       " ('a042471e0f43f2cf707104a1a138a7df', 95),\n",
       " ('fd970cc91d06d82eebf046340137b272', 93),\n",
       " ('7ed6d84e2e6879245e55447aee39c328', 85)]"
      ]
     },
     "execution_count": 61,
     "metadata": {},
     "output_type": "execute_result"
    }
   ],
   "source": [
    "# top rescuers (training data)\n",
    "cnt1 = Counter(df_train['RescuerID'])\n",
    "cnt1.most_common(10)"
   ]
  },
  {
   "cell_type": "code",
   "execution_count": 60,
   "metadata": {},
   "outputs": [
    {
     "data": {
      "text/plain": [
       "[('4475f31553f0170229455e3c5645644f', 146),\n",
       " ('0a1ff8402419c5fc2987085711928887', 81),\n",
       " ('a784899699776c1e71d9bc51bf45459c', 74),\n",
       " ('644449224c6fd82a2dbbc6155ade9aed', 67),\n",
       " ('0b19581048b55d65caa01d1d62b93330', 64),\n",
       " ('e6a42485af66a5fbf3f21fc8242fbf57', 62),\n",
       " ('3e4eeabc665cc918d6c9b14dc1310542', 59),\n",
       " ('fb4551428a0ed6c565e6b21da9ac4085', 54),\n",
       " ('0b363aae92ab0ecf6130d4b9d3d874e3', 49),\n",
       " ('ef6be63a03b751a7ffe0c3296b2494a9', 48)]"
      ]
     },
     "execution_count": 60,
     "metadata": {},
     "output_type": "execute_result"
    }
   ],
   "source": [
    "# top rescuers (testing data)\n",
    "cnt2 = Counter(df_test['RescuerID'])\n",
    "cnt2.most_common(10)"
   ]
  },
  {
   "cell_type": "code",
   "execution_count": 38,
   "metadata": {},
   "outputs": [
    {
     "data": {
      "text/plain": [
       "set()"
      ]
     },
     "execution_count": 38,
     "metadata": {},
     "output_type": "execute_result"
    }
   ],
   "source": [
    "# common rescuers # NONE!!!\n",
    "cnt1.keys() & cnt2.keys()  "
   ]
  },
  {
   "cell_type": "code",
   "execution_count": 41,
   "metadata": {},
   "outputs": [
    {
     "data": {
      "text/plain": [
       "[('fa90fa5b1ee11c86938398b60abc32cb', 459),\n",
       " ('aa66486163b6cbc25ea62a34b11c9b91', 315),\n",
       " ('c00756f2bdd8fa88fc9f07a8309f7d5d', 231),\n",
       " ('b53c34474d9e24574bcec6a3d3306a0d', 228),\n",
       " ('ee2747ce26468ec44c7194e7d1d9dad9', 156),\n",
       " ('4475f31553f0170229455e3c5645644f', 146),\n",
       " ('95481e953f8aed9ec3d16fc4509537e8', 134),\n",
       " ('b770bac0ca797cf1433c48a35d30c4cb', 111),\n",
       " ('a042471e0f43f2cf707104a1a138a7df', 95),\n",
       " ('fd970cc91d06d82eebf046340137b272', 93)]"
      ]
     },
     "execution_count": 41,
     "metadata": {},
     "output_type": "execute_result"
    }
   ],
   "source": [
    "# top rescuers (combined test and training data)\n",
    "df_combined = pd.concat([df_test, df_train], sort=False)\n",
    "cnt3 = Counter(df_combined['RescuerID'])\n",
    "cnt3.most_common(10)"
   ]
  },
  {
   "cell_type": "code",
   "execution_count": 57,
   "metadata": {},
   "outputs": [
    {
     "name": "stdout",
     "output_type": "stream",
     "text": [
      "training 5595 / 14993 = 0.373\n",
      "test     1518 / 3948  = 0.384\n"
     ]
    }
   ],
   "source": [
    "# distinct rescuers, and proportions relative to total entries\n",
    "print(f\"training {len(cnt1)} / {len(df_train)} = {len(cnt1) / len(df_train) :.3f}\")\n",
    "print(f\"test     {len(cnt2)} / {len(df_test)}  = {len(cnt2) / len(df_test)  :.3f}\")"
   ]
  },
  {
   "cell_type": "code",
   "execution_count": 115,
   "metadata": {
    "scrolled": true
   },
   "outputs": [
    {
     "data": {
      "text/plain": [
       "<matplotlib.axes._subplots.AxesSubplot at 0x7f35e8454160>"
      ]
     },
     "execution_count": 115,
     "metadata": {},
     "output_type": "execute_result"
    },
    {
     "data": {
      "image/png": "[encoded data removed]",
      "text/plain": [
       "<Figure size 432x288 with 1 Axes>"
      ]
     },
     "metadata": {
      "needs_background": "light"
     },
     "output_type": "display_data"
    }
   ],
   "source": [
    "# Proposed decision - combined rescuer counts from training and test\n",
    "# Originally thought normalisation was required, but since the rescuers \n",
    "# are not shared between the training/test data would be irrelevant\n",
    "\n",
    "# combine all training and test rescuer id counts\n",
    "rescuer_counts = df_combined['RescuerID'].map(cnt3)\n",
    "\n",
    "rescuer_counts.hist()"
   ]
  },
  {
   "cell_type": "code",
   "execution_count": 166,
   "metadata": {},
   "outputs": [
    {
     "data": {
      "text/plain": [
       "<seaborn.axisgrid.FacetGrid at 0x7f35ddf940b8>"
      ]
     },
     "execution_count": 166,
     "metadata": {},
     "output_type": "execute_result"
    },
    {
     "data": {
      "image/png": "[encoded data removed]",
      "text/plain": [
       "<Figure size 360x360 with 1 Axes>"
      ]
     },
     "metadata": {
      "needs_background": "light"
     },
     "output_type": "display_data"
    }
   ],
   "source": [
    "# rescuer counts vs adoption speed\n",
    "sns_df = pd.DataFrame({'Rescuer_Cnt':   df_train['RescuerID'].map(cnt3),\n",
    "                       'AdoptionSpeed': df_train['AdoptionSpeed']}).sample(frac=0.1)\n",
    "sns.catplot( y='Rescuer_Cnt' , x='AdoptionSpeed' , kind='swarm', data=sns_df)"
   ]
  },
  {
   "cell_type": "markdown",
   "metadata": {},
   "source": [
    "## Functions"
   ]
  },
  {
   "cell_type": "code",
   "execution_count": 78,
   "metadata": {
    "_uuid": "3076eefcc83e005977b9159c9d39459e5d08e27a"
   },
   "outputs": [],
   "source": [
    "def apply_word_flags(df, words):\n",
    "    \"\"\"Creates binary columns for words which appear in the description\"\"\"\n",
    "    for word in words:\n",
    "        df[word] = 0\n",
    "    for i, desc in df['Description'].items():\n",
    "        try:\n",
    "            for word in desc.split():\n",
    "                word = word.lower()\n",
    "                if word in words:\n",
    "                    df.at[i,word] = 1\n",
    "        except AttributeError:\n",
    "            continue\n",
    "    df = df.drop(columns=['Description'])\n",
    "    return df"
   ]
  },
  {
   "cell_type": "code",
   "execution_count": 79,
   "metadata": {},
   "outputs": [],
   "source": [
    "keywords = ['home', 'good' , 'adopt', 'loving', 'give', 'looking', 'playful', 'rescued', 'cat', 'contact']"
   ]
  },
  {
   "cell_type": "code",
   "execution_count": 80,
   "metadata": {},
   "outputs": [],
   "source": [
    "def apply_color_flags(df, colors):\n",
    "    \"\"\"Combines Colors 1,2 & 3 into binary columns for each possible colours\"\"\"\n",
    "    for c in colors:\n",
    "        df[f'C{c}'] = 0\n",
    "    for i,colors in df[['Color1', 'Color2', 'Color3']].iterrows():\n",
    "        for c in colors:\n",
    "            if c != 0:\n",
    "                df.at[i,f'C{c}'] = 1\n",
    "    df = df.drop(columns=['Color1', 'Color2', 'Color3'])\n",
    "    return df"
   ]
  },
  {
   "cell_type": "code",
   "execution_count": 81,
   "metadata": {},
   "outputs": [],
   "source": [
    "def apply_breed_flags(df, breeds):\n",
    "    \"\"\"Combines Breeds 1 & 2 into binary columns for each possible breed\"\"\"\n",
    "    for b in breeds:\n",
    "        df[f'B{b}'] = 0\n",
    "    for i,breeds in df[['Breed1', 'Breed2']].iterrows():\n",
    "        for b in breeds:\n",
    "            if b != 0:\n",
    "                df.at[i,f'B{b}'] = 1\n",
    "    df = df.drop(columns=['Breed1', 'Breed2'])\n",
    "    return df"
   ]
  },
  {
   "cell_type": "markdown",
   "metadata": {},
   "source": [
    "## Preparing training data"
   ]
  },
  {
   "cell_type": "code",
   "execution_count": 118,
   "metadata": {},
   "outputs": [],
   "source": [
    "# Combine test and training data\n",
    "df_combined = pd.concat([df_test, df_train], sort=False)\n",
    "df_combined['test'] = df_combined['AdoptionSpeed'].isna()\n",
    "\n",
    "# Prepare data for modelling \n",
    "df_combined['rescuer_counts'] = rescuer_counts\n",
    "df_combined = apply_word_flags(df_combined, keywords)\n",
    "df_combined = apply_color_flags(df_combined, colors)\n",
    "df_combined = apply_breed_flags(df_combined, breeds)\n",
    "df_combined = pd.get_dummies(df_combined, columns=['Gender',\n",
    "                                                   'Vaccinated', 'Dewormed', 'Sterilized', \n",
    "                                                   'State'])\n",
    "y_train_all = df_combined['AdoptionSpeed'][df_combined['test'] != 1]\n",
    "X_all       = df_combined.drop(columns=['Name', 'RescuerID', 'AdoptionSpeed'])\n",
    "X_train_all = X_all[X_all['test'] != 1].drop(columns=['test'])\n",
    "X_test_all  = X_all[X_all['test'] == 1].drop(columns=['test'])"
   ]
  },
  {
   "cell_type": "markdown",
   "metadata": {},
   "source": [
    "## Test Random Forest model"
   ]
  },
  {
   "cell_type": "code",
   "execution_count": 119,
   "metadata": {},
   "outputs": [
    {
     "name": "stdout",
     "output_type": "stream",
     "text": [
      "0.36726132384842003\n",
      "0.4229168003058722\n",
      "0.3813478232108235\n",
      "0.38930368543030025\n",
      "0.3858676546275305\n",
      "0.37931871738569223\n",
      "0.3929510925132469\n",
      "0.38172877895981316\n",
      "0.33604146974422133\n",
      "0.379345493047227\n"
     ]
    }
   ],
   "source": [
    "scores = []\n",
    "\n",
    "folds = KFold(10, True, rnd).split(X_train_all)\n",
    "\n",
    "for train_indx, test_indx in folds:\n",
    "    \n",
    "    X_train, X_test = X_train_all.iloc[train_indx], X_train_all.iloc[test_indx]\n",
    "    y_train, y_test = y_train_all.iloc[train_indx], y_train_all.iloc[test_indx]\n",
    "    \n",
    "    rfc = RandomForestClassifier(n_estimators=200, random_state=rnd)\n",
    "    rfc.fit(X_train, y_train)\n",
    "    prediction = rfc.predict(X_test)\n",
    "    scores.append(ml_metrics.quadratic_weighted_kappa(rater_a=y_test, rater_b=prediction))\n",
    "    print(scores[-1])"
   ]
  },
  {
   "cell_type": "code",
   "execution_count": 120,
   "metadata": {},
   "outputs": [
    {
     "data": {
      "text/plain": [
       "0.38160828390731466"
      ]
     },
     "execution_count": 120,
     "metadata": {},
     "output_type": "execute_result"
    }
   ],
   "source": [
    "# 0.354 --> 0.381 \n",
    "np.mean(scores)"
   ]
  },
  {
   "cell_type": "markdown",
   "metadata": {},
   "source": [
    "# Submitting test data"
   ]
  },
  {
   "cell_type": "code",
   "execution_count": 97,
   "metadata": {},
   "outputs": [],
   "source": [
    "rfc = RandomForestClassifier(n_estimators=200, random_state=rnd)\n",
    "rfc.fit(X_train_all, y_train_all)\n",
    "prediction = rfc.predict(X_test_all)"
   ]
  },
  {
   "cell_type": "code",
   "execution_count": 98,
   "metadata": {
    "scrolled": true
   },
   "outputs": [],
   "source": [
    "submission = pd.DataFrame({'AdoptionSpeed': prediction.astype(int)}, index=X_test_all.index)\n",
    "submission.to_csv(\"submission.csv\", index=True, index_label='PetID', header=['AdoptionSpeed'])"
   ]
  }
 ],
 "metadata": {
  "kernelspec": {
   "display_name": "Python 3",
   "language": "python",
   "name": "python3"
  },
  "language_info": {
   "codemirror_mode": {
    "name": "ipython",
    "version": 3
   },
   "file_extension": ".py",
   "mimetype": "text/x-python",
   "name": "python",
   "nbconvert_exporter": "python",
   "pygments_lexer": "ipython3",
   "version": "3.7.2"
  }
 },
 "nbformat": 4,
 "nbformat_minor": 1
}
