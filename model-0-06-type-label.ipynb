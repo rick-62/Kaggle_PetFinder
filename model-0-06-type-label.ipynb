{
 "cells": [
  {
   "cell_type": "markdown",
   "metadata": {},
   "source": [
    "# Model 0.05 - Breeds\n",
    " - Some breeds not shared between test and train data\n",
    " - Breeds could be categorised (e.g. Terrier), so decided to split breed name into keywords\n",
    " - Used only test data breeds for flags (1.7 pct point increase in LB)"
   ]
  },
  {
   "cell_type": "code",
   "execution_count": 1,
   "metadata": {
    "_cell_guid": "b1076dfc-b9ad-4769-8c92-a6c4dae69d19",
    "_uuid": "8f2839f25d086af736a60e9eeb907d3b93b6e0e5"
   },
   "outputs": [
    {
     "name": "stderr",
     "output_type": "stream",
     "text": [
      "/home/rich/anaconda3/lib/python3.7/site-packages/sklearn/ensemble/weight_boosting.py:29: DeprecationWarning: numpy.core.umath_tests is an internal NumPy module and should not be imported. It will be removed in a future NumPy release.\n",
      "  from numpy.core.umath_tests import inner1d\n"
     ]
    }
   ],
   "source": [
    "import re\n",
    "import ml_metrics\n",
    "import numpy as np\n",
    "import pandas as pd\n",
    "import matplotlib.pyplot as plt\n",
    "from collections import Counter\n",
    "from sklearn import preprocessing\n",
    "from sklearn.ensemble import RandomForestClassifier\n",
    "from sklearn.model_selection import train_test_split\n",
    "from sklearn.model_selection import KFold"
   ]
  },
  {
   "cell_type": "code",
   "execution_count": 2,
   "metadata": {},
   "outputs": [],
   "source": [
    "rnd = 42  # random state for scoring consistency"
   ]
  },
  {
   "cell_type": "markdown",
   "metadata": {},
   "source": [
    "## Importing the data"
   ]
  },
  {
   "cell_type": "code",
   "execution_count": 3,
   "metadata": {
    "_cell_guid": "79c7e3d0-c299-4dcb-8224-4455121ee9b0",
    "_uuid": "d629ff2d2480ee46fbb7e2d37f6b5fab8052498a"
   },
   "outputs": [],
   "source": [
    "df_train = pd.read_csv(\"../input/train/train.csv\", index_col=\"PetID\")\n",
    "df_test = pd.read_csv(\"../input/test/test.csv\", index_col=\"PetID\")\n",
    "df_breeds = pd.read_csv(\"../input/breed_labels.csv\", index_col=\"BreedID\")\n",
    "df_colors = pd.read_csv(\"../input/color_labels.csv\")"
   ]
  },
  {
   "cell_type": "code",
   "execution_count": 4,
   "metadata": {
    "scrolled": true
   },
   "outputs": [],
   "source": [
    "colors = df_colors['ColorID']\n",
    "breeds = df_breeds.index"
   ]
  },
  {
   "cell_type": "markdown",
   "metadata": {},
   "source": [
    "## Analysing Breeds\n",
    " - there is a breed category for mixed breeds\n",
    " - test data has 13 unseen breeds\n",
    " - 65 breeds are exclusively in training data\n",
    " - breeds meta data has 106 breeds unseen by test or training data\n",
    " - there are breeds only seen once\n",
    "\n",
    "### Plan\n",
    " - ~~Recreate breeds list, using grouping to group similar breeds (alleviate overfitting)~~ Extract all words from breed(s) name and use each as a feature\n",
    " - Only consider breeds present in the test data ✓\n",
    " - count of breeds (1 or 2) ✓ _insignificant difference_\n"
   ]
  },
  {
   "cell_type": "code",
   "execution_count": 5,
   "metadata": {},
   "outputs": [
    {
     "name": "stdout",
     "output_type": "stream",
     "text": [
      "176\n",
      "135\n"
     ]
    }
   ],
   "source": [
    "# count of distinct training Breeds\n",
    "print(len(df_train['Breed1'].unique()))\n",
    "print(len(df_train['Breed2'].unique()))"
   ]
  },
  {
   "cell_type": "code",
   "execution_count": 6,
   "metadata": {},
   "outputs": [
    {
     "data": {
      "text/plain": [
       "188"
      ]
     },
     "execution_count": 6,
     "metadata": {},
     "output_type": "execute_result"
    }
   ],
   "source": [
    "# distinct count of all training Breeds\n",
    "all_train_breeds = df_train['Breed1'].append(df_train['Breed2'])\n",
    "len(all_train_breeds.unique())"
   ]
  },
  {
   "cell_type": "code",
   "execution_count": 7,
   "metadata": {},
   "outputs": [
    {
     "data": {
      "text/plain": [
       "136"
      ]
     },
     "execution_count": 7,
     "metadata": {},
     "output_type": "execute_result"
    }
   ],
   "source": [
    "# distinct count of all test Breeds\n",
    "all_test_breeds = df_test['Breed1'].append(df_test['Breed2'])\n",
    "len(all_test_breeds.unique())"
   ]
  },
  {
   "cell_type": "code",
   "execution_count": 8,
   "metadata": {},
   "outputs": [
    {
     "data": {
      "text/plain": [
       "123"
      ]
     },
     "execution_count": 8,
     "metadata": {},
     "output_type": "execute_result"
    }
   ],
   "source": [
    "# common Breeds between test and training data\n",
    "len(set(all_train_breeds) & set(all_test_breeds))"
   ]
  },
  {
   "cell_type": "code",
   "execution_count": 9,
   "metadata": {},
   "outputs": [
    {
     "data": {
      "text/plain": [
       "65"
      ]
     },
     "execution_count": 9,
     "metadata": {},
     "output_type": "execute_result"
    }
   ],
   "source": [
    "# breeds only present in training data\n",
    "train_only_breeds = set(all_train_breeds) - set(all_test_breeds)\n",
    "len(train_only_breeds)"
   ]
  },
  {
   "cell_type": "code",
   "execution_count": 10,
   "metadata": {},
   "outputs": [
    {
     "data": {
      "text/plain": [
       "13"
      ]
     },
     "execution_count": 10,
     "metadata": {},
     "output_type": "execute_result"
    }
   ],
   "source": [
    "# breeds only present in test data\n",
    "test_only_breeds = set(all_test_breeds) - set(all_train_breeds)\n",
    "len(test_only_breeds)"
   ]
  },
  {
   "cell_type": "code",
   "execution_count": 11,
   "metadata": {},
   "outputs": [
    {
     "data": {
      "text/plain": [
       "[(nan, 10767),\n",
       " ('Mixed Breed', 7654),\n",
       " ('Domestic Short Hair', 4233),\n",
       " ('Domestic Medium Hair', 1579),\n",
       " ('Tabby', 480),\n",
       " ('Domestic Long Hair', 421),\n",
       " ('Siamese', 369),\n",
       " ('Persian', 299),\n",
       " ('Labrador Retriever', 291),\n",
       " ('Terrier', 253)]"
      ]
     },
     "execution_count": 11,
     "metadata": {},
     "output_type": "execute_result"
    }
   ],
   "source": [
    "# top breeds (training data)\n",
    "cnt1 = Counter(all_train_breeds.map(df_breeds['BreedName']))\n",
    "cnt1.most_common(10)"
   ]
  },
  {
   "cell_type": "code",
   "execution_count": 12,
   "metadata": {},
   "outputs": [
    {
     "data": {
      "text/plain": [
       "[('Dutch Shepherd', 1),\n",
       " ('Bluetick Coonhound', 1),\n",
       " ('Akbash', 1),\n",
       " ('Border Terrier', 1),\n",
       " ('Norfolk Terrier', 1),\n",
       " ('Afghan Hound', 1),\n",
       " ('German Shorthaired Pointer', 1),\n",
       " ('Selkirk Rex', 1),\n",
       " ('Smooth Fox Terrier', 1),\n",
       " ('Harrier', 1)]"
      ]
     },
     "execution_count": 12,
     "metadata": {},
     "output_type": "execute_result"
    }
   ],
   "source": [
    "# least common breeds (training data)\n",
    "cnt1.most_common()[-10:]"
   ]
  },
  {
   "cell_type": "code",
   "execution_count": 13,
   "metadata": {},
   "outputs": [
    {
     "data": {
      "text/plain": [
       "[(nan, 3078),\n",
       " ('Mixed Breed', 1604),\n",
       " ('Domestic Short Hair', 1236),\n",
       " ('Domestic Medium Hair', 428),\n",
       " ('Tabby', 189),\n",
       " ('Domestic Long Hair', 126),\n",
       " ('Persian', 82),\n",
       " ('Siamese', 77),\n",
       " ('Shih Tzu', 74),\n",
       " ('Calico', 57)]"
      ]
     },
     "execution_count": 13,
     "metadata": {},
     "output_type": "execute_result"
    }
   ],
   "source": [
    "# top breeds (test data)\n",
    "cnt2 = Counter(all_test_breeds.map(df_breeds['BreedName']))\n",
    "cnt2.most_common(10)"
   ]
  },
  {
   "cell_type": "code",
   "execution_count": 14,
   "metadata": {},
   "outputs": [
    {
     "data": {
      "text/plain": [
       "[('Chausie', 1),\n",
       " ('Devon Rex', 1),\n",
       " ('Chinese Foo Dog', 1),\n",
       " ('Shepherd', 1),\n",
       " ('Great Dane', 1),\n",
       " ('Patterdale Terrier (Fell Terrier)', 1),\n",
       " ('Eskimo Dog', 1),\n",
       " ('French Bulldog', 1),\n",
       " ('Turkish Van', 1),\n",
       " ('Jack Russell Terrier (Parson Russell Terrier)', 1)]"
      ]
     },
     "execution_count": 14,
     "metadata": {},
     "output_type": "execute_result"
    }
   ],
   "source": [
    "# least common breeds (test data)\n",
    "cnt2.most_common()[-10:]"
   ]
  },
  {
   "cell_type": "code",
   "execution_count": 15,
   "metadata": {},
   "outputs": [
    {
     "data": {
      "text/plain": [
       "BreedID\n",
       "128                             Jack Russell Terrier\n",
       "129    Jack Russell Terrier (Parson Russell Terrier)\n",
       "Name: BreedName, dtype: object"
      ]
     },
     "execution_count": 15,
     "metadata": {},
     "output_type": "execute_result"
    }
   ],
   "source": [
    "# Breeds containing \"Jack\"\n",
    "df_breeds['BreedName'][df_breeds['BreedName'].str.find(\"Jack\") >= 0]"
   ]
  },
  {
   "cell_type": "code",
   "execution_count": 16,
   "metadata": {},
   "outputs": [
    {
     "data": {
      "text/plain": [
       "BreedID\n",
       "3                                   Airedale Terrier\n",
       "9                          American Hairless Terrier\n",
       "10                    American Staffordshire Terrier\n",
       "17                                Australian Terrier\n",
       "23                                Bedlington Terrier\n",
       "33                             Black Russian Terrier\n",
       "40                                    Border Terrier\n",
       "42                                    Boston Terrier\n",
       "49                                      Bull Terrier\n",
       "51                                     Cairn Terrier\n",
       "77                             Dandi Dinmont Terrier\n",
       "98                                       Fox Terrier\n",
       "108                            Glen of Imaal Terrier\n",
       "123                                    Irish Terrier\n",
       "128                             Jack Russell Terrier\n",
       "129    Jack Russell Terrier (Parson Russell Terrier)\n",
       "135                               Kerry Blue Terrier\n",
       "142                                 Lakeland Terrier\n",
       "148                               Manchester Terrier\n",
       "159                                  Norfolk Terrier\n",
       "163                                  Norwich Terrier\n",
       "168                Patterdale Terrier (Fell Terrier)\n",
       "173                                 Pit Bull Terrier\n",
       "185                                      Rat Terrier\n",
       "197                         Scottish Terrier Scottie\n",
       "198                                 Sealyham Terrier\n",
       "207                                    Silky Terrier\n",
       "208                                     Skye Terrier\n",
       "210                               Smooth Fox Terrier\n",
       "214                       Staffordshire Bull Terrier\n",
       "218                                          Terrier\n",
       "222                                  Tibetan Terrier\n",
       "224                                  Toy Fox Terrier\n",
       "230                                    Welsh Terrier\n",
       "231               West Highland White Terrier Westie\n",
       "232                                  Wheaten Terrier\n",
       "235                                 Wire Fox Terrier\n",
       "237                               Wirehaired Terrier\n",
       "240                         Yorkshire Terrier Yorkie\n",
       "Name: BreedName, dtype: object"
      ]
     },
     "execution_count": 16,
     "metadata": {},
     "output_type": "execute_result"
    }
   ],
   "source": [
    "# Breeds containing \"Terrier\"\n",
    "df_breeds['BreedName'][df_breeds['BreedName'].str.find(\"Terrier\") >= 0]"
   ]
  },
  {
   "cell_type": "code",
   "execution_count": 17,
   "metadata": {},
   "outputs": [
    {
     "data": {
      "text/plain": [
       "BreedID\n",
       "12                Anatolian Shepherd\n",
       "16               Australian Shepherd\n",
       "24     Belgian Shepherd Dog Sheepdog\n",
       "25        Belgian Shepherd Laekenois\n",
       "26         Belgian Shepherd Malinois\n",
       "27         Belgian Shepherd Tervuren\n",
       "81                    Dutch Shepherd\n",
       "87                  English Shepherd\n",
       "103              German Shepherd Dog\n",
       "202                         Shepherd\n",
       "234            White German Shepherd\n",
       "Name: BreedName, dtype: object"
      ]
     },
     "execution_count": 17,
     "metadata": {},
     "output_type": "execute_result"
    }
   ],
   "source": [
    "# Breeds containing \"Shepherd\"\n",
    "df_breeds['BreedName'][df_breeds['BreedName'].str.find(\"Shepherd\") >= 0]"
   ]
  },
  {
   "cell_type": "code",
   "execution_count": 18,
   "metadata": {},
   "outputs": [
    {
     "data": {
      "text/plain": [
       "0"
      ]
     },
     "execution_count": 18,
     "metadata": {},
     "output_type": "execute_result"
    }
   ],
   "source": [
    "# test data with no breed at all\n",
    "len(df_test[df_test['Breed1'] == 0])"
   ]
  },
  {
   "cell_type": "code",
   "execution_count": 19,
   "metadata": {},
   "outputs": [
    {
     "data": {
      "text/html": [
       "<div>\n",
       "<style scoped>\n",
       "    .dataframe tbody tr th:only-of-type {\n",
       "        vertical-align: middle;\n",
       "    }\n",
       "\n",
       "    .dataframe tbody tr th {\n",
       "        vertical-align: top;\n",
       "    }\n",
       "\n",
       "    .dataframe thead th {\n",
       "        text-align: right;\n",
       "    }\n",
       "</style>\n",
       "<table border=\"1\" class=\"dataframe\">\n",
       "  <thead>\n",
       "    <tr style=\"text-align: right;\">\n",
       "      <th></th>\n",
       "      <th>Type</th>\n",
       "      <th>Name</th>\n",
       "      <th>Age</th>\n",
       "      <th>Breed1</th>\n",
       "      <th>Breed2</th>\n",
       "      <th>Gender</th>\n",
       "      <th>Color1</th>\n",
       "      <th>Color2</th>\n",
       "      <th>Color3</th>\n",
       "      <th>MaturitySize</th>\n",
       "      <th>...</th>\n",
       "      <th>Sterilized</th>\n",
       "      <th>Health</th>\n",
       "      <th>Quantity</th>\n",
       "      <th>Fee</th>\n",
       "      <th>State</th>\n",
       "      <th>RescuerID</th>\n",
       "      <th>VideoAmt</th>\n",
       "      <th>Description</th>\n",
       "      <th>PhotoAmt</th>\n",
       "      <th>AdoptionSpeed</th>\n",
       "    </tr>\n",
       "    <tr>\n",
       "      <th>PetID</th>\n",
       "      <th></th>\n",
       "      <th></th>\n",
       "      <th></th>\n",
       "      <th></th>\n",
       "      <th></th>\n",
       "      <th></th>\n",
       "      <th></th>\n",
       "      <th></th>\n",
       "      <th></th>\n",
       "      <th></th>\n",
       "      <th></th>\n",
       "      <th></th>\n",
       "      <th></th>\n",
       "      <th></th>\n",
       "      <th></th>\n",
       "      <th></th>\n",
       "      <th></th>\n",
       "      <th></th>\n",
       "      <th></th>\n",
       "      <th></th>\n",
       "      <th></th>\n",
       "    </tr>\n",
       "  </thead>\n",
       "  <tbody>\n",
       "    <tr>\n",
       "      <th>375905770</th>\n",
       "      <td>1</td>\n",
       "      <td>Lil Milo</td>\n",
       "      <td>2</td>\n",
       "      <td>0</td>\n",
       "      <td>26</td>\n",
       "      <td>2</td>\n",
       "      <td>2</td>\n",
       "      <td>0</td>\n",
       "      <td>0</td>\n",
       "      <td>2</td>\n",
       "      <td>...</td>\n",
       "      <td>2</td>\n",
       "      <td>1</td>\n",
       "      <td>1</td>\n",
       "      <td>0</td>\n",
       "      <td>41326</td>\n",
       "      <td>1a2113010d6048d5410b265347b35c91</td>\n",
       "      <td>0</td>\n",
       "      <td>Milo went missing after a week with her new ad...</td>\n",
       "      <td>3.0</td>\n",
       "      <td>3</td>\n",
       "    </tr>\n",
       "    <tr>\n",
       "      <th>da8d4a273</th>\n",
       "      <td>1</td>\n",
       "      <td>Bella 4 Months Puppy!</td>\n",
       "      <td>4</td>\n",
       "      <td>0</td>\n",
       "      <td>307</td>\n",
       "      <td>2</td>\n",
       "      <td>2</td>\n",
       "      <td>3</td>\n",
       "      <td>0</td>\n",
       "      <td>2</td>\n",
       "      <td>...</td>\n",
       "      <td>2</td>\n",
       "      <td>1</td>\n",
       "      <td>1</td>\n",
       "      <td>100</td>\n",
       "      <td>41326</td>\n",
       "      <td>3673e167fc9932b13149bed1f2a0180a</td>\n",
       "      <td>0</td>\n",
       "      <td>She's only 4 months old, very friendly and lov...</td>\n",
       "      <td>5.0</td>\n",
       "      <td>4</td>\n",
       "    </tr>\n",
       "    <tr>\n",
       "      <th>27e74e45c</th>\n",
       "      <td>2</td>\n",
       "      <td>NaN</td>\n",
       "      <td>3</td>\n",
       "      <td>0</td>\n",
       "      <td>266</td>\n",
       "      <td>3</td>\n",
       "      <td>1</td>\n",
       "      <td>4</td>\n",
       "      <td>7</td>\n",
       "      <td>1</td>\n",
       "      <td>...</td>\n",
       "      <td>2</td>\n",
       "      <td>1</td>\n",
       "      <td>3</td>\n",
       "      <td>0</td>\n",
       "      <td>41401</td>\n",
       "      <td>f7cff59d10c867bdee12c3f35f34d086</td>\n",
       "      <td>0</td>\n",
       "      <td>Mama cat came to house and gave birth to these...</td>\n",
       "      <td>11.0</td>\n",
       "      <td>2</td>\n",
       "    </tr>\n",
       "    <tr>\n",
       "      <th>7b5bee232</th>\n",
       "      <td>1</td>\n",
       "      <td>\"Boy Boy\"</td>\n",
       "      <td>72</td>\n",
       "      <td>0</td>\n",
       "      <td>307</td>\n",
       "      <td>1</td>\n",
       "      <td>1</td>\n",
       "      <td>2</td>\n",
       "      <td>0</td>\n",
       "      <td>2</td>\n",
       "      <td>...</td>\n",
       "      <td>2</td>\n",
       "      <td>1</td>\n",
       "      <td>1</td>\n",
       "      <td>0</td>\n",
       "      <td>41326</td>\n",
       "      <td>94b991f8dc1e0bb903ca8d4d492c8d43</td>\n",
       "      <td>0</td>\n",
       "      <td>He is a stray dog found wandering around Unive...</td>\n",
       "      <td>5.0</td>\n",
       "      <td>4</td>\n",
       "    </tr>\n",
       "    <tr>\n",
       "      <th>0327b8e94</th>\n",
       "      <td>1</td>\n",
       "      <td>Looking Newborn Puppy For Adoption</td>\n",
       "      <td>2</td>\n",
       "      <td>0</td>\n",
       "      <td>205</td>\n",
       "      <td>2</td>\n",
       "      <td>2</td>\n",
       "      <td>5</td>\n",
       "      <td>7</td>\n",
       "      <td>1</td>\n",
       "      <td>...</td>\n",
       "      <td>2</td>\n",
       "      <td>1</td>\n",
       "      <td>1</td>\n",
       "      <td>1</td>\n",
       "      <td>41336</td>\n",
       "      <td>5232bdd1444960a257ccec9a41404320</td>\n",
       "      <td>0</td>\n",
       "      <td>I want to adopt a newborn puppy Prefer small b...</td>\n",
       "      <td>0.0</td>\n",
       "      <td>3</td>\n",
       "    </tr>\n",
       "  </tbody>\n",
       "</table>\n",
       "<p>5 rows × 23 columns</p>\n",
       "</div>"
      ],
      "text/plain": [
       "           Type                                Name  Age  Breed1  Breed2  \\\n",
       "PetID                                                                      \n",
       "375905770     1                            Lil Milo    2       0      26   \n",
       "da8d4a273     1               Bella 4 Months Puppy!    4       0     307   \n",
       "27e74e45c     2                                 NaN    3       0     266   \n",
       "7b5bee232     1                           \"Boy Boy\"   72       0     307   \n",
       "0327b8e94     1  Looking Newborn Puppy For Adoption    2       0     205   \n",
       "\n",
       "           Gender  Color1  Color2  Color3  MaturitySize      ...        \\\n",
       "PetID                                                        ...         \n",
       "375905770       2       2       0       0             2      ...         \n",
       "da8d4a273       2       2       3       0             2      ...         \n",
       "27e74e45c       3       1       4       7             1      ...         \n",
       "7b5bee232       1       1       2       0             2      ...         \n",
       "0327b8e94       2       2       5       7             1      ...         \n",
       "\n",
       "           Sterilized  Health  Quantity  Fee  State  \\\n",
       "PetID                                                 \n",
       "375905770           2       1         1    0  41326   \n",
       "da8d4a273           2       1         1  100  41326   \n",
       "27e74e45c           2       1         3    0  41401   \n",
       "7b5bee232           2       1         1    0  41326   \n",
       "0327b8e94           2       1         1    1  41336   \n",
       "\n",
       "                                  RescuerID  VideoAmt  \\\n",
       "PetID                                                   \n",
       "375905770  1a2113010d6048d5410b265347b35c91         0   \n",
       "da8d4a273  3673e167fc9932b13149bed1f2a0180a         0   \n",
       "27e74e45c  f7cff59d10c867bdee12c3f35f34d086         0   \n",
       "7b5bee232  94b991f8dc1e0bb903ca8d4d492c8d43         0   \n",
       "0327b8e94  5232bdd1444960a257ccec9a41404320         0   \n",
       "\n",
       "                                                 Description PhotoAmt  \\\n",
       "PetID                                                                   \n",
       "375905770  Milo went missing after a week with her new ad...      3.0   \n",
       "da8d4a273  She's only 4 months old, very friendly and lov...      5.0   \n",
       "27e74e45c  Mama cat came to house and gave birth to these...     11.0   \n",
       "7b5bee232  He is a stray dog found wandering around Unive...      5.0   \n",
       "0327b8e94  I want to adopt a newborn puppy Prefer small b...      0.0   \n",
       "\n",
       "           AdoptionSpeed  \n",
       "PetID                     \n",
       "375905770              3  \n",
       "da8d4a273              4  \n",
       "27e74e45c              2  \n",
       "7b5bee232              4  \n",
       "0327b8e94              3  \n",
       "\n",
       "[5 rows x 23 columns]"
      ]
     },
     "execution_count": 19,
     "metadata": {},
     "output_type": "execute_result"
    }
   ],
   "source": [
    "# training data with no breed at all - Breed in Breed2 column\n",
    "df_train[df_train['Breed1'] == 0]"
   ]
  },
  {
   "cell_type": "code",
   "execution_count": 20,
   "metadata": {},
   "outputs": [
    {
     "data": {
      "text/plain": [
       "106"
      ]
     },
     "execution_count": 20,
     "metadata": {},
     "output_type": "execute_result"
    }
   ],
   "source": [
    "# Breed IDs not included in either test or training data\n",
    "len(df_breeds) - len((all_test_breeds.append(all_train_breeds)).unique())"
   ]
  },
  {
   "cell_type": "code",
   "execution_count": 21,
   "metadata": {},
   "outputs": [],
   "source": [
    "df_combined = pd.concat([df_test, df_train], sort=False)"
   ]
  },
  {
   "cell_type": "code",
   "execution_count": 22,
   "metadata": {},
   "outputs": [],
   "source": [
    "# Breed Ids with 0 removed\n",
    "all_test_breeds2 = all_test_breeds[all_test_breeds > 0]"
   ]
  },
  {
   "cell_type": "code",
   "execution_count": 23,
   "metadata": {},
   "outputs": [
    {
     "data": {
      "text/html": [
       "<div>\n",
       "<style scoped>\n",
       "    .dataframe tbody tr th:only-of-type {\n",
       "        vertical-align: middle;\n",
       "    }\n",
       "\n",
       "    .dataframe tbody tr th {\n",
       "        vertical-align: top;\n",
       "    }\n",
       "\n",
       "    .dataframe thead th {\n",
       "        text-align: right;\n",
       "    }\n",
       "</style>\n",
       "<table border=\"1\" class=\"dataframe\">\n",
       "  <thead>\n",
       "    <tr style=\"text-align: right;\">\n",
       "      <th></th>\n",
       "      <th>Type</th>\n",
       "      <th>BreedName</th>\n",
       "    </tr>\n",
       "    <tr>\n",
       "      <th>BreedID</th>\n",
       "      <th></th>\n",
       "      <th></th>\n",
       "    </tr>\n",
       "  </thead>\n",
       "  <tbody>\n",
       "    <tr>\n",
       "      <th>307</th>\n",
       "      <td>1</td>\n",
       "      <td>Mixed Breed</td>\n",
       "    </tr>\n",
       "    <tr>\n",
       "      <th>266</th>\n",
       "      <td>2</td>\n",
       "      <td>Domestic Short Hair</td>\n",
       "    </tr>\n",
       "    <tr>\n",
       "      <th>218</th>\n",
       "      <td>1</td>\n",
       "      <td>Terrier</td>\n",
       "    </tr>\n",
       "    <tr>\n",
       "      <th>265</th>\n",
       "      <td>2</td>\n",
       "      <td>Domestic Medium Hair</td>\n",
       "    </tr>\n",
       "    <tr>\n",
       "      <th>213</th>\n",
       "      <td>1</td>\n",
       "      <td>Spitz</td>\n",
       "    </tr>\n",
       "  </tbody>\n",
       "</table>\n",
       "</div>"
      ],
      "text/plain": [
       "         Type             BreedName\n",
       "BreedID                            \n",
       "307         1           Mixed Breed\n",
       "266         2   Domestic Short Hair\n",
       "218         1               Terrier\n",
       "265         2  Domestic Medium Hair\n",
       "213         1                 Spitz"
      ]
     },
     "execution_count": 23,
     "metadata": {},
     "output_type": "execute_result"
    }
   ],
   "source": [
    "# Only test breeds considered\n",
    "df_test_breeds = df_breeds.loc[all_test_breeds2.unique(), :]\n",
    "df_test_breeds.head()"
   ]
  },
  {
   "cell_type": "code",
   "execution_count": 24,
   "metadata": {},
   "outputs": [],
   "source": [
    "# set of keywords from test data only\n",
    "breed_keywords = []\n",
    "for breed in df_test_breeds['BreedName']:\n",
    "    breed = re.sub(r'[/(/)]', '', breed)  # remove braces\n",
    "    keywords = breed.split()\n",
    "    breed_keywords += keywords\n",
    "breed_keywords = set(breed_keywords)"
   ]
  },
  {
   "cell_type": "code",
   "execution_count": 25,
   "metadata": {},
   "outputs": [
    {
     "data": {
      "text/plain": [
       "{'Abyssinian',\n",
       " 'Afghan',\n",
       " 'Akita',\n",
       " 'Alaskan',\n",
       " 'American',\n",
       " 'Angora',\n",
       " 'Applehead',\n",
       " 'Australian',\n",
       " 'Balinese',\n",
       " 'Basenji',\n",
       " 'Basset',\n",
       " 'Beagle',\n",
       " 'Belgian',\n",
       " 'Bengal',\n",
       " 'Bernard',\n",
       " 'Birman',\n",
       " 'Black',\n",
       " 'Blue',\n",
       " 'Bobtail',\n",
       " 'Bombay',\n",
       " 'Border',\n",
       " 'Boxer',\n",
       " 'Brasileiro',\n",
       " 'Breed',\n",
       " 'British',\n",
       " 'Bull',\n",
       " 'Bulldog',\n",
       " 'Bullmastiff',\n",
       " 'Burmese',\n",
       " 'Burmilla',\n",
       " 'Cairn',\n",
       " 'Calico',\n",
       " 'Cat',\n",
       " 'Cattle',\n",
       " 'Cavalier',\n",
       " 'Charles',\n",
       " 'Chausie',\n",
       " 'Chihuahua',\n",
       " 'Chinchilla',\n",
       " 'Chinese',\n",
       " 'Chow',\n",
       " 'Cocker',\n",
       " 'Collie',\n",
       " 'Coon',\n",
       " 'Corgi',\n",
       " 'Curl',\n",
       " 'Cymric',\n",
       " 'Dachshund',\n",
       " 'Dalmatian',\n",
       " 'Dane',\n",
       " 'Devon',\n",
       " 'Dilute',\n",
       " 'Doberman',\n",
       " 'Dog',\n",
       " 'DogBlue',\n",
       " 'Domestic',\n",
       " 'Egyptian',\n",
       " 'English',\n",
       " 'Eskimo',\n",
       " 'Exotic',\n",
       " 'Fell',\n",
       " 'Fila',\n",
       " 'Foo',\n",
       " 'Forest',\n",
       " 'French',\n",
       " 'German',\n",
       " 'Golden',\n",
       " 'Great',\n",
       " 'Greyhound',\n",
       " 'Hair',\n",
       " 'Havanese',\n",
       " 'Heeler',\n",
       " 'Highland',\n",
       " 'Himalayan',\n",
       " 'Hound',\n",
       " 'Husky',\n",
       " 'Inu',\n",
       " 'Irish',\n",
       " 'Italian',\n",
       " 'Jack',\n",
       " 'Japanese',\n",
       " 'King',\n",
       " 'Labrador',\n",
       " 'Laekenois',\n",
       " 'Lakeland',\n",
       " 'Long',\n",
       " 'Maine',\n",
       " 'Malamute',\n",
       " 'Malinois',\n",
       " 'Maltese',\n",
       " 'Mau',\n",
       " 'Medium',\n",
       " 'Miniature',\n",
       " 'Mixed',\n",
       " 'Mountain',\n",
       " 'Munchkin',\n",
       " 'Norwegian',\n",
       " 'Ocicat',\n",
       " 'Old',\n",
       " 'Oriental',\n",
       " 'Parson',\n",
       " 'Patterdale',\n",
       " 'Pei',\n",
       " 'Pekingese',\n",
       " 'Persian',\n",
       " 'Pinscher',\n",
       " 'Pit',\n",
       " 'Pixie-Bob',\n",
       " 'Pointer',\n",
       " 'Pomeranian',\n",
       " 'Poodle',\n",
       " 'Pug',\n",
       " 'Pyrenees',\n",
       " 'Ragamuffin',\n",
       " 'Ragdoll',\n",
       " 'Retriever',\n",
       " 'Rex',\n",
       " 'Rhodesian',\n",
       " 'Ridgeback',\n",
       " 'Rottweiler',\n",
       " 'Russell',\n",
       " 'Russian',\n",
       " 'Saint',\n",
       " 'Schnauzer',\n",
       " 'Setter',\n",
       " 'Shar',\n",
       " 'Sheep',\n",
       " 'Sheepdog',\n",
       " 'Sheltie',\n",
       " 'Shepherd',\n",
       " 'Shetland',\n",
       " 'Shiba',\n",
       " 'Shih',\n",
       " 'Short',\n",
       " 'Shorthair',\n",
       " 'Shorthaired',\n",
       " 'Siamese',\n",
       " 'Siberian',\n",
       " 'Silky',\n",
       " 'Silver',\n",
       " 'Singapura',\n",
       " 'Snowshoe',\n",
       " 'Somali',\n",
       " 'Spaniel',\n",
       " 'Spitz',\n",
       " 'Staffordshire',\n",
       " 'Standard',\n",
       " 'Tabby',\n",
       " 'Terrier',\n",
       " 'Tibetan',\n",
       " 'Tiger',\n",
       " 'Tonkinese',\n",
       " 'Tortoiseshell',\n",
       " 'Turkish',\n",
       " 'Tuxedo',\n",
       " 'Tzu',\n",
       " 'Van',\n",
       " 'West',\n",
       " 'Westie',\n",
       " 'Whippet',\n",
       " 'White'}"
      ]
     },
     "execution_count": 25,
     "metadata": {},
     "output_type": "execute_result"
    }
   ],
   "source": [
    "breed_keywords"
   ]
  },
  {
   "cell_type": "code",
   "execution_count": 26,
   "metadata": {},
   "outputs": [],
   "source": [
    "# step 1: breed keywords --> columns\n",
    "# step 2: map breed id to breed name (for both breed 1 and 2)\n",
    "# step 3: break breed name into keywords\n",
    "# step 4: flag keywords in row\n",
    "# note: follow similar procedure as other functions"
   ]
  },
  {
   "cell_type": "code",
   "execution_count": 27,
   "metadata": {},
   "outputs": [],
   "source": [
    "def apply_breed_flags(df, keywords, breeds):\n",
    "    \"\"\"Creates binary columns for keywords which appear in the breed name\"\"\"\n",
    "    for word in keywords:\n",
    "        df[word] = 0\n",
    "        \n",
    "    for i,pair in df[['Breed1', 'Breed2']].iterrows():\n",
    "        for indx in pair:\n",
    "            if indx == 0: continue\n",
    "            breed = breeds.loc[indx,'BreedName']\n",
    "            breed = re.sub(r'[/(/)]', '', breed)\n",
    "            new_keywords = breed.split()\n",
    "            for word in new_keywords:\n",
    "                if word in keywords: \n",
    "                    df.at[i,word] = 1\n",
    "                \n",
    "    return df.drop(columns=['Breed1', 'Breed2'])"
   ]
  },
  {
   "cell_type": "code",
   "execution_count": 28,
   "metadata": {},
   "outputs": [
    {
     "data": {
      "text/html": [
       "<div>\n",
       "<style scoped>\n",
       "    .dataframe tbody tr th:only-of-type {\n",
       "        vertical-align: middle;\n",
       "    }\n",
       "\n",
       "    .dataframe tbody tr th {\n",
       "        vertical-align: top;\n",
       "    }\n",
       "\n",
       "    .dataframe thead th {\n",
       "        text-align: right;\n",
       "    }\n",
       "</style>\n",
       "<table border=\"1\" class=\"dataframe\">\n",
       "  <thead>\n",
       "    <tr style=\"text-align: right;\">\n",
       "      <th></th>\n",
       "      <th>Type</th>\n",
       "      <th>Name</th>\n",
       "      <th>Age</th>\n",
       "      <th>Gender</th>\n",
       "      <th>Color1</th>\n",
       "      <th>Color2</th>\n",
       "      <th>Color3</th>\n",
       "      <th>MaturitySize</th>\n",
       "      <th>FurLength</th>\n",
       "      <th>Vaccinated</th>\n",
       "      <th>...</th>\n",
       "      <th>Cavalier</th>\n",
       "      <th>Snowshoe</th>\n",
       "      <th>Cat</th>\n",
       "      <th>Van</th>\n",
       "      <th>Chinchilla</th>\n",
       "      <th>Spitz</th>\n",
       "      <th>Pei</th>\n",
       "      <th>Corgi</th>\n",
       "      <th>Munchkin</th>\n",
       "      <th>German</th>\n",
       "    </tr>\n",
       "    <tr>\n",
       "      <th>PetID</th>\n",
       "      <th></th>\n",
       "      <th></th>\n",
       "      <th></th>\n",
       "      <th></th>\n",
       "      <th></th>\n",
       "      <th></th>\n",
       "      <th></th>\n",
       "      <th></th>\n",
       "      <th></th>\n",
       "      <th></th>\n",
       "      <th></th>\n",
       "      <th></th>\n",
       "      <th></th>\n",
       "      <th></th>\n",
       "      <th></th>\n",
       "      <th></th>\n",
       "      <th></th>\n",
       "      <th></th>\n",
       "      <th></th>\n",
       "      <th></th>\n",
       "      <th></th>\n",
       "    </tr>\n",
       "  </thead>\n",
       "  <tbody>\n",
       "    <tr>\n",
       "      <th>86e1089a3</th>\n",
       "      <td>2</td>\n",
       "      <td>Nibble</td>\n",
       "      <td>3</td>\n",
       "      <td>1</td>\n",
       "      <td>1</td>\n",
       "      <td>7</td>\n",
       "      <td>0</td>\n",
       "      <td>1</td>\n",
       "      <td>1</td>\n",
       "      <td>2</td>\n",
       "      <td>...</td>\n",
       "      <td>0</td>\n",
       "      <td>0</td>\n",
       "      <td>0</td>\n",
       "      <td>0</td>\n",
       "      <td>0</td>\n",
       "      <td>0</td>\n",
       "      <td>0</td>\n",
       "      <td>0</td>\n",
       "      <td>0</td>\n",
       "      <td>0</td>\n",
       "    </tr>\n",
       "    <tr>\n",
       "      <th>6296e909a</th>\n",
       "      <td>2</td>\n",
       "      <td>No Name Yet</td>\n",
       "      <td>1</td>\n",
       "      <td>1</td>\n",
       "      <td>1</td>\n",
       "      <td>2</td>\n",
       "      <td>0</td>\n",
       "      <td>2</td>\n",
       "      <td>2</td>\n",
       "      <td>3</td>\n",
       "      <td>...</td>\n",
       "      <td>0</td>\n",
       "      <td>0</td>\n",
       "      <td>0</td>\n",
       "      <td>0</td>\n",
       "      <td>0</td>\n",
       "      <td>0</td>\n",
       "      <td>0</td>\n",
       "      <td>0</td>\n",
       "      <td>0</td>\n",
       "      <td>0</td>\n",
       "    </tr>\n",
       "    <tr>\n",
       "      <th>3422e4906</th>\n",
       "      <td>1</td>\n",
       "      <td>Brisco</td>\n",
       "      <td>1</td>\n",
       "      <td>1</td>\n",
       "      <td>2</td>\n",
       "      <td>7</td>\n",
       "      <td>0</td>\n",
       "      <td>2</td>\n",
       "      <td>2</td>\n",
       "      <td>1</td>\n",
       "      <td>...</td>\n",
       "      <td>0</td>\n",
       "      <td>0</td>\n",
       "      <td>0</td>\n",
       "      <td>0</td>\n",
       "      <td>0</td>\n",
       "      <td>0</td>\n",
       "      <td>0</td>\n",
       "      <td>0</td>\n",
       "      <td>0</td>\n",
       "      <td>0</td>\n",
       "    </tr>\n",
       "    <tr>\n",
       "      <th>5842f1ff5</th>\n",
       "      <td>1</td>\n",
       "      <td>Miko</td>\n",
       "      <td>4</td>\n",
       "      <td>2</td>\n",
       "      <td>1</td>\n",
       "      <td>2</td>\n",
       "      <td>0</td>\n",
       "      <td>2</td>\n",
       "      <td>1</td>\n",
       "      <td>1</td>\n",
       "      <td>...</td>\n",
       "      <td>0</td>\n",
       "      <td>0</td>\n",
       "      <td>0</td>\n",
       "      <td>0</td>\n",
       "      <td>0</td>\n",
       "      <td>0</td>\n",
       "      <td>0</td>\n",
       "      <td>0</td>\n",
       "      <td>0</td>\n",
       "      <td>0</td>\n",
       "    </tr>\n",
       "    <tr>\n",
       "      <th>850a43f90</th>\n",
       "      <td>1</td>\n",
       "      <td>Hunter</td>\n",
       "      <td>1</td>\n",
       "      <td>1</td>\n",
       "      <td>1</td>\n",
       "      <td>0</td>\n",
       "      <td>0</td>\n",
       "      <td>2</td>\n",
       "      <td>1</td>\n",
       "      <td>2</td>\n",
       "      <td>...</td>\n",
       "      <td>0</td>\n",
       "      <td>0</td>\n",
       "      <td>0</td>\n",
       "      <td>0</td>\n",
       "      <td>0</td>\n",
       "      <td>0</td>\n",
       "      <td>0</td>\n",
       "      <td>0</td>\n",
       "      <td>0</td>\n",
       "      <td>0</td>\n",
       "    </tr>\n",
       "  </tbody>\n",
       "</table>\n",
       "<p>5 rows × 182 columns</p>\n",
       "</div>"
      ],
      "text/plain": [
       "           Type         Name  Age  Gender  Color1  Color2  Color3  \\\n",
       "PetID                                                               \n",
       "86e1089a3     2       Nibble    3       1       1       7       0   \n",
       "6296e909a     2  No Name Yet    1       1       1       2       0   \n",
       "3422e4906     1       Brisco    1       1       2       7       0   \n",
       "5842f1ff5     1         Miko    4       2       1       2       0   \n",
       "850a43f90     1       Hunter    1       1       1       0       0   \n",
       "\n",
       "           MaturitySize  FurLength  Vaccinated   ...    Cavalier  Snowshoe  \\\n",
       "PetID                                            ...                         \n",
       "86e1089a3             1          1           2   ...           0         0   \n",
       "6296e909a             2          2           3   ...           0         0   \n",
       "3422e4906             2          2           1   ...           0         0   \n",
       "5842f1ff5             2          1           1   ...           0         0   \n",
       "850a43f90             2          1           2   ...           0         0   \n",
       "\n",
       "           Cat  Van  Chinchilla  Spitz Pei  Corgi Munchkin  German  \n",
       "PetID                                                               \n",
       "86e1089a3    0    0           0      0   0      0        0       0  \n",
       "6296e909a    0    0           0      0   0      0        0       0  \n",
       "3422e4906    0    0           0      0   0      0        0       0  \n",
       "5842f1ff5    0    0           0      0   0      0        0       0  \n",
       "850a43f90    0    0           0      0   0      0        0       0  \n",
       "\n",
       "[5 rows x 182 columns]"
      ]
     },
     "execution_count": 28,
     "metadata": {},
     "output_type": "execute_result"
    }
   ],
   "source": [
    "test_breed_flags_df = apply_breed_flags(df_train.copy(), breed_keywords, df_breeds)\n",
    "test_breed_flags_df.head()"
   ]
  },
  {
   "cell_type": "markdown",
   "metadata": {},
   "source": [
    "## Functions"
   ]
  },
  {
   "cell_type": "code",
   "execution_count": 29,
   "metadata": {
    "_uuid": "3076eefcc83e005977b9159c9d39459e5d08e27a"
   },
   "outputs": [],
   "source": [
    "def apply_word_flags(df, words):\n",
    "    \"\"\"Creates binary columns for words which appear in the description\"\"\"\n",
    "    for word in words:\n",
    "        df[word] = 0\n",
    "    for i, desc in df['Description'].items():\n",
    "        try:\n",
    "            for word in desc.split():\n",
    "                word = word.lower()\n",
    "                if word in words:\n",
    "                    df.at[i,word] = 1\n",
    "        except AttributeError:\n",
    "            continue\n",
    "    df = df.drop(columns=['Description'])\n",
    "    return df"
   ]
  },
  {
   "cell_type": "code",
   "execution_count": 30,
   "metadata": {},
   "outputs": [],
   "source": [
    "keywords = ['home', 'good' , 'adopt', 'loving', 'give', 'looking', 'playful', 'rescued', 'cat', 'contact']"
   ]
  },
  {
   "cell_type": "code",
   "execution_count": 31,
   "metadata": {},
   "outputs": [],
   "source": [
    "def apply_color_flags(df, colors):\n",
    "    \"\"\"Combines Colors 1,2 & 3 into binary columns for each possible colours\"\"\"\n",
    "    for c in colors:\n",
    "        df[f'C{c}'] = 0\n",
    "    for i,colors in df[['Color1', 'Color2', 'Color3']].iterrows():\n",
    "        for c in colors:\n",
    "            if c != 0:\n",
    "                df.at[i,f'C{c}'] = 1\n",
    "    df = df.drop(columns=['Color1', 'Color2', 'Color3'])\n",
    "    return df"
   ]
  },
  {
   "cell_type": "code",
   "execution_count": 32,
   "metadata": {},
   "outputs": [],
   "source": [
    "def apply_breed_id_flags(df, breeds):\n",
    "    \"\"\"Combines Breeds 1 & 2 into binary columns for each possible breed\"\"\"\n",
    "    for b in breeds:\n",
    "        df[f'B{b}'] = 0\n",
    "    for i,pair in df[['Breed1', 'Breed2']].iterrows():\n",
    "        for b in pair:\n",
    "            if b in breeds:\n",
    "                df.at[i,f'B{b}'] = 1\n",
    "    return df"
   ]
  },
  {
   "cell_type": "code",
   "execution_count": 33,
   "metadata": {},
   "outputs": [],
   "source": [
    "def apply_breed_kw_flags(df, keywords, breeds):\n",
    "    \"\"\"Creates binary columns for keywords which appear in the breed name\"\"\"\n",
    "    for word in keywords:\n",
    "        df[word] = 0\n",
    "        \n",
    "    for i,pair in df[['Breed1', 'Breed2']].iterrows():\n",
    "        for indx in pair:\n",
    "            if indx == 0: continue\n",
    "            breed = breeds.loc[indx,'BreedName']\n",
    "            breed = re.sub(r'[/(/)]', '', breed)\n",
    "            new_keywords = breed.split()\n",
    "            for word in new_keywords:\n",
    "                if word in keywords: \n",
    "                    df.at[i,word] = 1\n",
    "                \n",
    "    return df"
   ]
  },
  {
   "cell_type": "markdown",
   "metadata": {},
   "source": [
    "## Preparing training data"
   ]
  },
  {
   "cell_type": "code",
   "execution_count": 44,
   "metadata": {},
   "outputs": [],
   "source": [
    "# Combine test and training data\n",
    "df_combined = pd.concat([df_test, df_train], sort=False)\n",
    "df_combined['test'] = df_combined['AdoptionSpeed'].isna()\n",
    "\n",
    "# Rescuer\n",
    "rescue_map = Counter(df_combined['RescuerID'])\n",
    "rescuer_counts = df_combined['RescuerID'].map(rescue_map)\n",
    "\n",
    "# Breeds\n",
    "test_breeds = df_test['Breed1'].append(df_test['Breed2']).unique()\n",
    "\n",
    "# Prepare data for modelling \n",
    "df_combined['rescuer_counts'] = rescuer_counts\n",
    "df_combined = apply_word_flags(df_combined, keywords)\n",
    "df_combined = apply_color_flags(df_combined, colors)\n",
    "# df_combined = apply_breed_id_flags(df_combined, all_test_breeds)\n",
    "df_combined = apply_breed_kw_flags(df_combined, breed_keywords, df_breeds)\n",
    "df_combined = pd.get_dummies(df_combined, columns=['Gender',\n",
    "                                                   'Vaccinated', 'Dewormed', 'Sterilized', \n",
    "                                                   'State'])\n",
    "y_train_all = df_combined['AdoptionSpeed'][df_combined['test'] != 1]\n",
    "X_all       = df_combined.drop(columns=['Name', 'RescuerID', 'AdoptionSpeed', 'Breed1', 'Breed2'])\n",
    "X_train_all = X_all[X_all['test'] != 1].drop(columns=['test'])\n",
    "X_test_all  = X_all[X_all['test'] == 1].drop(columns=['test'])"
   ]
  },
  {
   "cell_type": "code",
   "execution_count": 45,
   "metadata": {},
   "outputs": [
    {
     "data": {
      "text/plain": [
       "215"
      ]
     },
     "execution_count": 45,
     "metadata": {},
     "output_type": "execute_result"
    }
   ],
   "source": [
    "len(X_all.columns)"
   ]
  },
  {
   "cell_type": "markdown",
   "metadata": {},
   "source": [
    "## Test Random Forest model"
   ]
  },
  {
   "cell_type": "code",
   "execution_count": 46,
   "metadata": {},
   "outputs": [
    {
     "name": "stdout",
     "output_type": "stream",
     "text": [
      "0.37598072354914946\n",
      "0.4521999299117365\n",
      "0.4010573856061588\n",
      "0.4077434236907468\n",
      "0.3913520464104012\n",
      "0.3957994615635728\n",
      "0.41499776876407213\n",
      "0.3914430584350077\n",
      "0.36860029575526254\n",
      "0.3854352532835936\n"
     ]
    }
   ],
   "source": [
    "scores = []\n",
    "\n",
    "folds = KFold(10, True, rnd).split(X_train_all)\n",
    "\n",
    "for train_indx, test_indx in folds:\n",
    "    \n",
    "    X_train, X_test = X_train_all.iloc[train_indx], X_train_all.iloc[test_indx]\n",
    "    y_train, y_test = y_train_all.iloc[train_indx], y_train_all.iloc[test_indx]\n",
    "    \n",
    "    rfc = RandomForestClassifier(n_estimators=200, random_state=rnd)\n",
    "    rfc.fit(X_train, y_train)\n",
    "    prediction = rfc.predict(X_test)\n",
    "    scores.append(ml_metrics.quadratic_weighted_kappa(rater_a=y_test, rater_b=prediction))\n",
    "    print(scores[-1])"
   ]
  },
  {
   "cell_type": "code",
   "execution_count": 49,
   "metadata": {},
   "outputs": [
    {
     "data": {
      "text/plain": [
       "0.3984609346969702"
      ]
     },
     "execution_count": 49,
     "metadata": {},
     "output_type": "execute_result"
    }
   ],
   "source": [
    "# 0.381 \n",
    "# only considering breeds from test data  --> 0.340\n",
    "# correction to breeds function           --> 0.386 (LB increase --> 0.319)\n",
    "# added count of breed                    --> 0.386 (insignificant difference - removed)\n",
    "# split breeds into keywords (test data)* --> 0.370 (LB incease 0.319 --> 0.326)\n",
    "# split breeds into keywords (all data)   --> 0.372 \n",
    "# only consider most influencial breeds   --> 0.339\n",
    "# breed keywords AND breed ids            --> 0.373\n",
    "# UPDATE: restarted kernel*               --> 0.398 (reason unknown)\n",
    "np.mean(scores)"
   ]
  },
  {
   "cell_type": "code",
   "execution_count": 50,
   "metadata": {},
   "outputs": [],
   "source": [
    "feature_importances = pd.DataFrame(rfc.feature_importances_,\n",
    "                                   index = X_train.columns,\n",
    "                                   columns=['importance']).sort_values('importance', ascending=False)"
   ]
  },
  {
   "cell_type": "code",
   "execution_count": 56,
   "metadata": {},
   "outputs": [
    {
     "name": "stderr",
     "output_type": "stream",
     "text": [
      "/home/rich/anaconda3/lib/python3.7/site-packages/ipykernel_launcher.py:1: UserWarning: Boolean Series key will be reindexed to match DataFrame index.\n",
      "  \"\"\"Entry point for launching an IPython kernel.\n"
     ]
    }
   ],
   "source": [
    "breed_keywords2 = feature_importances.loc[breed_keywords].sort_values('importance', ascending=False)[feature_importances['importance'] > 0.001]"
   ]
  },
  {
   "cell_type": "code",
   "execution_count": 58,
   "metadata": {},
   "outputs": [
    {
     "data": {
      "text/plain": [
       "<matplotlib.axes._subplots.AxesSubplot at 0x7f2300896208>"
      ]
     },
     "execution_count": 58,
     "metadata": {},
     "output_type": "execute_result"
    },
    {
     "data": {
      "image/png": "[encoded data removed]",
      "text/plain": [
       "<Figure size 432x288 with 1 Axes>"
      ]
     },
     "metadata": {
      "needs_background": "light"
     },
     "output_type": "display_data"
    }
   ],
   "source": [
    "breed_keywords2.iloc[:10,:].plot.barh()"
   ]
  },
  {
   "cell_type": "markdown",
   "metadata": {},
   "source": [
    "# Submitting test data"
   ]
  },
  {
   "cell_type": "code",
   "execution_count": 40,
   "metadata": {},
   "outputs": [],
   "source": [
    "rfc = RandomForestClassifier(n_estimators=200, random_state=rnd)\n",
    "rfc.fit(X_train_all, y_train_all)\n",
    "prediction = rfc.predict(X_test_all)"
   ]
  },
  {
   "cell_type": "code",
   "execution_count": 41,
   "metadata": {
    "scrolled": true
   },
   "outputs": [],
   "source": [
    "submission = pd.DataFrame({'AdoptionSpeed': prediction.astype(int)}, index=X_test_all.index)\n",
    "submission.to_csv(\"submission.csv\", index=True, index_label='PetID', header=['AdoptionSpeed'])"
   ]
  }
 ],
 "metadata": {
  "kernelspec": {
   "display_name": "Python 3",
   "language": "python",
   "name": "python3"
  },
  "language_info": {
   "codemirror_mode": {
    "name": "ipython",
    "version": 3
   },
   "file_extension": ".py",
   "mimetype": "text/x-python",
   "name": "python",
   "nbconvert_exporter": "python",
   "pygments_lexer": "ipython3",
   "version": "3.7.2"
  }
 },
 "nbformat": 4,
 "nbformat_minor": 1
}
